{
 "cells": [
  {
   "cell_type": "code",
   "execution_count": 1,
   "metadata": {},
   "outputs": [],
   "source": [
    "import pandas as pd"
   ]
  },
  {
   "cell_type": "markdown",
   "metadata": {
    "heading_collapsed": true
   },
   "source": [
    "# 读入数据"
   ]
  },
  {
   "cell_type": "code",
   "execution_count": null,
   "metadata": {
    "code_folding": [],
    "hidden": true
   },
   "outputs": [],
   "source": [
    "# 读入数据，只要列megawatthours\n",
    "f1path = \"./elec_interchange/Actual_Net_Interchange_for_California_(region)_to_Mexico_(region)_hourly_-_local_time(q-).xlsx\"\n",
    "California_Mexico=pd.read_excel(f1path,usecols = ['Megawatthours'])\n",
    "\n",
    "f2path = \"./elec_interchange/Actual_Net_Interchange_for_California_(region)_to_Northwest_(region)_hourly_-_local_time.xlsx\"\n",
    "California_Northwest=pd.read_excel(f2path,usecols = ['Megawatthours'])\n",
    "\n",
    "f3path = \"./elec_interchange/Actual_Net_Interchange_for_California_(region)_to_Southwest_(region)_hourly_-_local_time.xlsx\"\n",
    "California_Southwest=pd.read_excel(f3path,usecols = ['Megawatthours'])\n",
    "\n",
    "f4path = \"./elec_interchange/Actual_Net_Interchange_for_Carolinas_(region)_to_Mid-Atlantic_(region)_hourly_-_local_time(q-).xlsx\"\n",
    "Carolinas_MidAtlantic=pd.read_excel(f4path,usecols = ['Megawatthours'])\n",
    "\n",
    "f5path = \"./elec_interchange/Actual_Net_Interchange_for_Carolinas_(region)_to_Southeast_(region)_hourly_-_local_time.xlsx\"\n",
    "Carolinas_Southeast=pd.read_excel(f5path,usecols = ['Megawatthours'])\n",
    "\n",
    "f6path = \"./elec_interchange/Actual_Net_Interchange_for_Carolinas_(region)_to_Tennessee_(region)_hourly_-_local_time(q-).xlsx\"\n",
    "Carolinas_Tennessee=pd.read_excel(f6path,usecols = ['Megawatthours'])\n",
    "\n",
    "f7path = \"./elec_interchange/Actual_Net_Interchange_for_Central_(region)_to_Canada_(region)_hourly_-_local_time(q-).xlsx\"\n",
    "Central_Canada=pd.read_excel(f7path,usecols = ['Megawatthours'])\n",
    "\n",
    "f8path = \"./elec_interchange/Actual_Net_Interchange_for_Central_(region)_to_Midwest_(region)_hourly_-_local_time.xlsx\"\n",
    "Central_Midwest=pd.read_excel(f7path,usecols = ['Megawatthours'])\n",
    "\n",
    "f9path = \"./elec_interchange/Actual_Net_Interchange_for_Central_(region)_to_Northwest_(region)_hourly_-_local_time(q-).xlsx\"\n",
    "Central_Northwest=pd.read_excel(f9path,usecols = ['Megawatthours'])\n",
    "\n",
    "f10path = \"./elec_interchange/Actual_Net_Interchange_for_Central_(region)_to_Southwest_(region)_hourly_-_local_time(q-).xlsx\"\n",
    "Central_Southwest=pd.read_excel(f10path,usecols = ['Megawatthours'])\n",
    "\n",
    "f11path = \"./elec_interchange/Actual_Net_Interchange_for_Central_(region)_to_Texas_(region)_hourly_-_local_time(q-).xlsx\"\n",
    "Central_Texas=pd.read_excel(f11path,usecols = ['Megawatthours'])\n",
    "\n",
    "f12path = \"./elec_interchange/Actual_Net_Interchange_for_Florida_(region)_to_Southeast_(region)_hourly_-_local_time.xlsx\"\n",
    "Florida_Southeast=pd.read_excel(f12path,usecols = ['Megawatthours'])\n",
    "\n",
    "f13path = \"./elec_interchange/Actual_Net_Interchange_for_Mid-Atlantic_(region)_to_Carolinas_(region)_hourly_-_local_time(q-).xlsx\"\n",
    "MidAtlantic_Carolinas=pd.read_excel(f13path,usecols = ['Megawatthours'])\n",
    "\n",
    "f14path = \"./elec_interchange/Actual_Net_Interchange_for_Mid-Atlantic_(region)_to_Midwest_(region)_hourly_-_local_time(q-).xlsx\"\n",
    "MidAtlantic_Midwest=pd.read_excel(f14path,usecols = ['Megawatthours'])\n",
    "\n",
    "f15path = \"./elec_interchange/Actual_Net_Interchange_for_Mid-Atlantic_(region)_to_New_York_(region)_hourly_-_local_time(q-).xlsx\"\n",
    "MidAtlantic_New_York=pd.read_excel(f15path,usecols = ['Megawatthours'])\n",
    "\n",
    "f16path = \"./elec_interchange/Actual_Net_Interchange_for_Mid-Atlantic_(region)_to_Tennessee_(region)_hourly_-_local_time(q-).xlsx\"\n",
    "MidAtlantic_Tennessee=pd.read_excel(f16path,usecols = ['Megawatthours'])\n",
    "\n",
    "f17path = \"./elec_interchange/Actual_Net_Interchange_for_Midwest_(region)_to_Canada_(region)_hourly_-_local_time(q-).xlsx\"\n",
    "Midwest_Canada=pd.read_excel(f17path,usecols = ['Megawatthours'])\n",
    "\n",
    "f18path = \"./elec_interchange/Actual_Net_Interchange_for_Midwest_(region)_to_Central_(region)_hourly_-_local_time.xlsx\"\n",
    "Midwest_Central=pd.read_excel(f18path,usecols = ['Megawatthours'])\n",
    "\n",
    "f19path = \"./elec_interchange/Actual_Net_Interchange_for_Midwest_(region)_to_Mid-Atlantic_(region)_hourly_-_local_time.xlsx\"\n",
    "Midwest_MidAtlantic=pd.read_excel(f19path,usecols = ['Megawatthours'])\n",
    "\n",
    "f20path = \"./elec_interchange/Actual_Net_Interchange_for_Midwest_(region)_to_Southeast_(region)_hourly_-_local_time(q-).xlsx\"\n",
    "Midwest_Southeast=pd.read_excel(f20path,usecols = ['Megawatthours'])\n",
    "\n",
    "f21path = \"./elec_interchange/Actual_Net_Interchange_for_Midwest_(region)_to_Tennessee_(region)_hourly_-_local_time.xlsx\"\n",
    "Midwest_Tennessee=pd.read_excel(f21path,usecols = ['Megawatthours'])\n",
    "\n",
    "f22path = \"./elec_interchange/Actual_Net_Interchange_for_New_England_(region)_to_Canada_(region)_hourly_-_local_time.xlsx\"\n",
    "New_England_Canada=pd.read_excel(f22path,usecols = ['Megawatthours'])\n",
    "\n",
    "f23path = \"./elec_interchange/Actual_Net_Interchange_for_New_England_(region)_to_New_York_(region)_hourly_-_local_time.xlsx\"\n",
    "New_England_New_York=pd.read_excel(f23path,usecols = ['Megawatthours'])\n",
    "\n",
    "f24path = \"./elec_interchange/Actual_Net_Interchange_for_New_York_(region)_to_Canada_(region)_hourly_-_local_time.xlsx\"\n",
    "New_York_Canada=pd.read_excel(f24path,usecols = ['Megawatthours'])\n",
    "\n",
    "f25path = \"./elec_interchange/Actual_Net_Interchange_for_New_York_(region)_to_Mid-Atlantic_(region)_hourly_-_local_time.xlsx\"\n",
    "New_York_MidAtlantic=pd.read_excel(f25path,usecols = ['Megawatthours'])\n",
    "\n",
    "f26path = \"./elec_interchange/Actual_Net_Interchange_for_New_York_(region)_to_New_England_(region)_hourly_-_local_time.xlsx\"\n",
    "New_York_New_England=pd.read_excel(f26path,usecols = ['Megawatthours'])\n",
    "\n",
    "f27path = \"./elec_interchange/Actual_Net_Interchange_for_Northwest_(region)_to_California_(region)_hourly_-_local_time.xlsx\"\n",
    "Northwest_California=pd.read_excel(f27path,usecols = ['Megawatthours'])\n",
    "\n",
    "f28path = \"./elec_interchange/Actual_Net_Interchange_for_Northwest_(region)_to_Canada_(region)_hourly_-_local_time.xlsx\"\n",
    "Northwest_Canada=pd.read_excel(f28path,usecols = ['Megawatthours'])\n",
    "\n",
    "f29path = \"./elec_interchange/Actual_Net_Interchange_for_Northwest_(region)_to_Central_(region)_hourly_-_local_time.xlsx\"\n",
    "Northwest_Central=pd.read_excel(f29path,usecols = ['Megawatthours'])\n",
    "\n",
    "f30path = \"./elec_interchange/Actual_Net_Interchange_for_Northwest_(region)_to_Southwest_(region)_hourly_-_local_time.xlsx\"\n",
    "Northwest_Southwest=pd.read_excel(f30path,usecols = ['Megawatthours'])\n",
    "\n",
    "f31path = \"./elec_interchange/Actual_Net_Interchange_for_Southeast_(region)_to_Carolinas_(region)_hourly_-_local_time.xlsx\"\n",
    "Southeast_Carolinas=pd.read_excel(f31path,usecols = ['Megawatthours'])\n",
    "\n",
    "f32path = \"./elec_interchange/Actual_Net_Interchange_for_Southeast_(region)_to_Florida_(region)_hourly_-_local_time(q-).xlsx\"\n",
    "Southeast_Florida=pd.read_excel(f32path,usecols = ['Megawatthours'])\n",
    "\n",
    "f33path = \"./elec_interchange/Actual_Net_Interchange_for_Southeast_(region)_to_Midwest_(region)_hourly_-_local_time.xlsx\"\n",
    "Southeast_Midwest=pd.read_excel(f33path,usecols = ['Megawatthours'])\n",
    "\n",
    "f34path = \"./elec_interchange/Actual_Net_Interchange_for_Southeast_(region)_to_Tennessee_(region)_hourly_-_local_time(q-).xlsx\"\n",
    "Southeast_Tennessee=pd.read_excel(f34path,usecols = ['Megawatthours'])\n",
    "\n",
    "f35path = \"./elec_interchange/Actual_Net_Interchange_for_Southwest_(region)_to_California_(region)_hourly_-_local_time.xlsx\"\n",
    "Southwest_California=pd.read_excel(f35path,usecols = ['Megawatthours'])\n",
    "\n",
    "f36path = \"./elec_interchange/Actual_Net_Interchange_for_Southwest_(region)_to_Central_(region)_hourly_-_local_time.xlsx\"\n",
    "Southwest_Central=pd.read_excel(f36path,usecols = ['Megawatthours'])\n",
    "\n",
    "f37path = \"./elec_interchange/Actual_Net_Interchange_for_Southwest_(region)_to_Northwest_(region)_hourly_-_local_time.xlsx\"\n",
    "Southwest_Northwest=pd.read_excel(f37path,usecols = ['Megawatthours'])\n",
    "\n",
    "f38path = \"./elec_interchange/Actual_Net_Interchange_for_Tennessee_(region)_to_Carolinas_(region)_hourly_-_local_time(q-).xlsx\"\n",
    "Tennessee_Carolinas=pd.read_excel(f38path,usecols = ['Megawatthours'])\n",
    "\n",
    "f39path = \"./elec_interchange/Actual_Net_Interchange_for_Tennessee_(region)_to_Mid-Atlantic_(region)_hourly_-_local_time(q-).xlsx\"\n",
    "Tennessee_MidAtlantic=pd.read_excel(f39path,usecols = ['Megawatthours'])\n",
    "\n",
    "f40path = \"./elec_interchange/Actual_Net_Interchange_for_Tennessee_(region)_to_Midwest_(region)_hourly_-_local_time(q-).xlsx\"\n",
    "Tennessee_Midwest=pd.read_excel(f40path,usecols = ['Megawatthours'])\n",
    "\n",
    "f41path = \"./elec_interchange/Actual_Net_Interchange_for_Tennessee_(region)_to_Southeast_(region)_hourly_-_local_time(q-).xlsx\"\n",
    "Tennessee_Southeast=pd.read_excel(f41path,usecols = ['Megawatthours'])\n",
    "\n",
    "f42path = \"./elec_interchange/Actual_Net_Interchange_for_Texas_(region)_to_Central_(region)_hourly_-_local_time(q-).xlsx\"\n",
    "Texas_Central=pd.read_excel(f42path,usecols = ['Megawatthours'])\n",
    "\n",
    "f43path = \"./elec_interchange/Actual_Net_Interchange_for_Texas_(region)_to_Mexico_(region)_hourly_-_local_time.xlsx\"\n",
    "Texas_Mexico=pd.read_excel(f43path,usecols = ['Megawatthours'])\n",
    "\n",
    "Time_PST=pd.read_excel(f1path,usecols = ['Time'])\n",
    "Time_EST=pd.read_excel(f4path,usecols = ['Time'])\n",
    "Time_CST=pd.read_excel(f7path,usecols = ['Time'])\n",
    "Time_MST=pd.read_excel(f27path,usecols = ['Time'])\n",
    "Time_Southwest=pd.read_excel(f35path,usecols = ['Time'])"
   ]
  },
  {
   "cell_type": "markdown",
   "metadata": {
    "heading_collapsed": true
   },
   "source": [
    "# 按时区建立df"
   ]
  },
  {
   "cell_type": "code",
   "execution_count": 3,
   "metadata": {
    "hidden": true
   },
   "outputs": [],
   "source": [
    "# PST,以列为方向合并series\n",
    "df_PST=pd.concat([Time_PST,California_Mexico,California_Northwest,California_Southwest],                                \n",
    "                 axis=1)\n",
    "# 重命名列名\n",
    "df_PST.columns=[\"Time\",\"California_Mexico\",\"California_Northwest\",\"California_Southwest\"] "
   ]
  },
  {
   "cell_type": "code",
   "execution_count": 4,
   "metadata": {
    "hidden": true
   },
   "outputs": [],
   "source": [
    "# MST\n",
    "df_MST=pd.concat([Time_MST,Northwest_California,Northwest_Canada,Northwest_Central,Northwest_Southwest],\n",
    "                 axis=1)\n",
    "# 重命名列名\n",
    "df_MST.columns=[\"Time\",\"Northwest_California\",\"Northwest_Canada\",\"Northwest_Central\",\"Northwest_Southwest\"]"
   ]
  },
  {
   "cell_type": "code",
   "execution_count": 5,
   "metadata": {
    "hidden": true
   },
   "outputs": [],
   "source": [
    "# CST\n",
    "df_CST=pd.concat([Time_CST,Central_Canada,Central_Midwest,Central_Northwest,Central_Southwest,Central_Texas,\n",
    "                 Southeast_Carolinas,Southeast_Florida,Southeast_Midwest,Southeast_Tennessee,\n",
    "                 Tennessee_Carolinas,Tennessee_MidAtlantic,Tennessee_Midwest,Tennessee_Southeast,\n",
    "                 Texas_Central,Texas_Mexico],                 \n",
    "                 axis=1)\n",
    "# 重命名列名\n",
    "df_CST.columns=[\"Time\",\"Central_Canada\",\"Central_Midwest\",\"Central_Northwest\",\"Central_Southwest\",\"Central_Texas\",\n",
    "                 \"Southeast_Carolinas\",\"Southeast_Florida\",\"Southeast_Midwest\",\"Southeast_Tennessee\",\n",
    "                 \"Tennessee_Carolinas\",\"Tennessee_MidAtlantic\",\"Tennessee_Midwest\",\"Tennessee_Southeast\",\n",
    "                 \"Texas_Central\",\"Texas_Mexico\"]"
   ]
  },
  {
   "cell_type": "code",
   "execution_count": 6,
   "metadata": {
    "hidden": true
   },
   "outputs": [],
   "source": [
    "# EST\n",
    "df_EST=pd.concat([Time_EST,Carolinas_MidAtlantic,Carolinas_Southeast,Carolinas_Tennessee,\n",
    "                 Florida_Southeast,\n",
    "                 MidAtlantic_Carolinas,MidAtlantic_Midwest,MidAtlantic_New_York,MidAtlantic_Tennessee,\n",
    "                 Midwest_Canada,Midwest_Central,Midwest_MidAtlantic,Midwest_Southeast,Midwest_Tennessee,\n",
    "                 New_England_Canada,New_England_New_York,\n",
    "                 New_York_Canada,New_York_MidAtlantic,New_York_New_England],                \n",
    "                 axis=1)\n",
    "# 重命名列名\n",
    "df_EST.columns=[\"Time\",\"Carolinas_MidAtlantic\",\"Carolinas_Southeast\",\"Carolinas_Tennessee\",\n",
    "                 \"Florida_Southeast\",\n",
    "                 \"MidAtlantic_Carolinas\",\"MidAtlantic_Midwest\",\"MidAtlantic_New_York\",\"MidAtlantic_Tennessee\",\n",
    "                 \"Midwest_Canada\",\"Midwest_Central\",\"Midwest_MidAtlantic\",\"Midwest_Southeast\",\"Midwest_Tennessee\",\n",
    "                 \"New_England_Canada\",\"New_England_New_York\",\n",
    "                 \"New_York_Canada\",\"New_York_MidAtlantic\",\"New_York_New_England\"]"
   ]
  },
  {
   "cell_type": "code",
   "execution_count": 7,
   "metadata": {
    "hidden": true
   },
   "outputs": [],
   "source": [
    "# Southwest\n",
    "df_Southwest=pd.concat([Time_Southwest,Southwest_California,Southwest_Central,Southwest_Northwest],                       \n",
    "                       axis=1)\n",
    "# 重命名列名\n",
    "df_Southwest.columns=[\"Time\",\"Southwest_California\",\"Southwest_Central\",\"Southwest_Northwest\"]"
   ]
  },
  {
   "cell_type": "markdown",
   "metadata": {},
   "source": [
    "# 填补df空值并建立行索引"
   ]
  },
  {
   "cell_type": "code",
   "execution_count": 8,
   "metadata": {},
   "outputs": [],
   "source": [
    "# 判断df_PST是否有空值，以列为方向填补缺失值\n",
    "list_PST=[\"California_Mexico\",\"California_Northwest\",\"California_Southwest\"]\n",
    "\n",
    "for i in list_PST: \n",
    "    if df_PST[i].isnull().any():\n",
    "        df_PST.loc[:,i].interpolate(method=\"pchip\",inplace=True) # 分段立方埃尔米特插值\n",
    "\n",
    "#设置行索引为日期，并改变原导入数据，方便按日期筛选\n",
    "df_PST.set_index(\"Time\",inplace=True)             "
   ]
  },
  {
   "cell_type": "code",
   "execution_count": 9,
   "metadata": {},
   "outputs": [],
   "source": [
    "# 判断df_MST是否有空值，以列为方向填补缺失值\n",
    "list_MST=[\"Northwest_California\",\"Northwest_Canada\",\"Northwest_Central\",\"Northwest_Southwest\"]\n",
    "\n",
    "for i in list_MST:\n",
    "    if df_MST[i].isnull().any():\n",
    "        df_MST.loc[:,i].interpolate(method=\"pchip\",inplace=True) # 分段立方埃尔米特插值\n",
    "\n",
    "#设置行索引为日期，并改变原导入数据，方便按日期筛选\n",
    "df_MST.set_index(\"Time\",inplace=True)         "
   ]
  },
  {
   "cell_type": "code",
   "execution_count": 10,
   "metadata": {},
   "outputs": [],
   "source": [
    "# 判断df_CST是否有空值，以列为方向填补缺失值\n",
    "list_CST=[\"Central_Canada\",\"Central_Midwest\",\"Central_Northwest\",\"Central_Southwest\",\"Central_Texas\",\n",
    "                 \"Southeast_Carolinas\",\"Southeast_Florida\",\"Southeast_Midwest\",\"Southeast_Tennessee\",\n",
    "                 \"Tennessee_Carolinas\",\"Tennessee_MidAtlantic\",\"Tennessee_Midwest\",\"Tennessee_Southeast\",\n",
    "                 \"Texas_Central\",\"Texas_Mexico\"]\n",
    "\n",
    "for i in list_CST:\n",
    "    if df_CST[i].isnull().any():\n",
    "        df_CST.loc[:,i].interpolate(method=\"pchip\",inplace=True) # 分段立方埃尔米特插值\n",
    "\n",
    "#设置行索引为日期，并改变原导入数据，方便按日期筛选\n",
    "df_CST.set_index(\"Time\",inplace=True)         "
   ]
  },
  {
   "cell_type": "code",
   "execution_count": 11,
   "metadata": {},
   "outputs": [],
   "source": [
    "# 判断df_EST是否有空值，以列为方向填补缺失值\n",
    "list_EST=[\"Carolinas_MidAtlantic\",\"Carolinas_Southeast\",\"Carolinas_Tennessee\",\n",
    "                 \"Florida_Southeast\",\n",
    "                 \"MidAtlantic_Carolinas\",\"MidAtlantic_Midwest\",\"MidAtlantic_New_York\",\"MidAtlantic_Tennessee\",\n",
    "                 \"Midwest_Canada\",\"Midwest_Central\",\"Midwest_MidAtlantic\",\"Midwest_Southeast\",\"Midwest_Tennessee\",\n",
    "                 \"New_England_Canada\",\"New_England_New_York\",\n",
    "                 \"New_York_Canada\",\"New_York_MidAtlantic\",\"New_York_New_England\"]\n",
    "\n",
    "for i in list_EST:\n",
    "    if df_EST[i].isnull().any():\n",
    "        df_EST.loc[:,i].interpolate(method=\"pchip\",inplace=True) # 分段立方埃尔米特插值\n",
    "\n",
    "#设置行索引为日期，并改变原导入数据，方便按日期筛选\n",
    "df_EST.set_index(\"Time\",inplace=True)        "
   ]
  },
  {
   "cell_type": "code",
   "execution_count": 12,
   "metadata": {},
   "outputs": [],
   "source": [
    "# 判断df_Southwest是否有空值，以列为方向填补缺失值\n",
    "list_Southwest=[\"Southwest_California\",\"Southwest_Central\",\"Southwest_Northwest\"]\n",
    "\n",
    "for i in list_Southwest:\n",
    "    if df_Southwest[i].isnull().any():\n",
    "        df_Southwest.loc[:,i].interpolate(method=\"pchip\",inplace=True) # 分段立方埃尔米特插值\n",
    "\n",
    "#设置行索引为日期，并改变原导入数据，方便按日期筛选\n",
    "df_Southwest.set_index(\"Time\",inplace=True)        "
   ]
  },
  {
   "cell_type": "markdown",
   "metadata": {},
   "source": [
    "# 截取数据"
   ]
  },
  {
   "cell_type": "code",
   "execution_count": 13,
   "metadata": {},
   "outputs": [],
   "source": [
    "# 截取数据# 对PST时区的所有列截取相同时间窗的数据（只要是同一个时区，起始点就是一样的,根本不用做循环）\n",
    "start_PST=\"01/31/22 23:00\"\n",
    "end_PST=\"01/01/19 00:00\"\n",
    "df_PST=df_PST.loc[start_PST:end_PST,:]\n",
    "\n",
    "# 将索引重新设置为默认值，并真正替换，方便后面合并series。必须要把原来索引drop掉，因为一个series不能变成一个dataframe\n",
    "df_PST.reset_index(inplace=True,drop=True)"
   ]
  },
  {
   "cell_type": "code",
   "execution_count": 14,
   "metadata": {},
   "outputs": [],
   "source": [
    "# 对MST时区的所有列截取相同时间窗的数据（只要是同一个时区，起始点就是一样的,根本不用做循环）\n",
    "start_MST=\"02/01/22 00:00\"\n",
    "end_MST=\"01/01/19 01:00\"\n",
    "df_MST=df_MST.loc[start_MST:end_MST,:]\n",
    "\n",
    "# 将索引重新设置为默认值，并真正替换，方便后面合并series。必须要把原来索引drop掉，因为一个series不能变成一个dataframe\n",
    "df_MST.reset_index(inplace=True,drop=True)"
   ]
  },
  {
   "cell_type": "code",
   "execution_count": 15,
   "metadata": {},
   "outputs": [],
   "source": [
    "# 对CST时区的所有列截取相同时间窗的数据（只要是同一个时区，起始点就是一样的,根本不用做循环）\n",
    "start_CST=\"02/01/22 01:00\"\n",
    "end_CST=\"01/01/19 02:00\"\n",
    "df_CST=df_CST.loc[start_CST:end_CST,:]\n",
    "\n",
    "# 将索引重新设置为默认值，并真正替换，方便后面合并series。必须要把原来索引drop掉，因为一个series不能变成一个dataframe\n",
    "df_CST.reset_index(inplace=True,drop=True)"
   ]
  },
  {
   "cell_type": "code",
   "execution_count": 16,
   "metadata": {},
   "outputs": [],
   "source": [
    "# 对EST时区的所有列截取相同时间窗的数据（只要是同一个时区，起始点就是一样的,根本不用做循环）\n",
    "start_EST=\"02/01/22 02:00\"\n",
    "end_EST=\"01/01/19 03:00\"\n",
    "df_EST=df_EST.loc[start_EST:end_EST,:]\n",
    "\n",
    "# 将索引重新设置为默认值，并真正替换，方便后面合并series。必须要把原来索引drop掉，因为一个series不能变成一个dataframe\n",
    "df_EST.reset_index(inplace=True,drop=True)"
   ]
  },
  {
   "cell_type": "code",
   "execution_count": 17,
   "metadata": {},
   "outputs": [],
   "source": [
    "# 对Southwest时区的所有列截取相同时间窗的数据（只要是同一个时区，起始点就是一样的,根本不用做循环）\n",
    "start_Southwest=\"02/01/22 00:00\"\n",
    "end_Southwest=\"01/01/19 01:00\"\n",
    "df_Southwest=df_Southwest.loc[start_Southwest:end_Southwest,:]\n",
    "\n",
    "# 将索引重新设置为默认值，并真正替换，方便后面合并series。必须要把原来索引drop掉，因为一个series不能变成一个dataframe\n",
    "df_Southwest.reset_index(inplace=True,drop=True)"
   ]
  },
  {
   "cell_type": "markdown",
   "metadata": {},
   "source": [
    "# 合并"
   ]
  },
  {
   "cell_type": "code",
   "execution_count": 18,
   "metadata": {},
   "outputs": [],
   "source": [
    "# 构建一个长度为27048全是0的series\n",
    "zero_series=pd.Series([0 for x in range(27048)])"
   ]
  },
  {
   "cell_type": "code",
   "execution_count": 19,
   "metadata": {},
   "outputs": [],
   "source": [
    "# 从各个时区的df中提取series,按既定顺序拼接成一个新的df即可\n",
    "Interchange_All=pd.concat(\n",
    "    [zero_series,zero_series,zero_series,zero_series,zero_series,zero_series,zero_series,zero_series,df_MST.loc[:,\"Northwest_California\"],zero_series,df_Southwest.loc[:,\"Southwest_California\"],zero_series,zero_series,zero_series,zero_series,\n",
    "     zero_series,zero_series,zero_series,zero_series,df_EST.loc[:,\"MidAtlantic_Carolinas\"],zero_series,zero_series,zero_series,zero_series,df_CST.loc[:,\"Southeast_Carolinas\"],zero_series,df_CST.loc[:,\"Tennessee_Carolinas\"],zero_series,zero_series,zero_series,\n",
    "     zero_series,zero_series,zero_series,zero_series,zero_series,df_EST.loc[:,\"Midwest_Central\"],zero_series,zero_series,df_MST.loc[:,\"Northwest_Central\"],zero_series,df_Southwest.loc[:,\"Southwest_Central\"],zero_series,df_CST.loc[:,\"Texas_Central\"],zero_series,zero_series,\n",
    "     zero_series,zero_series,zero_series,zero_series,zero_series,zero_series,zero_series,zero_series,zero_series,df_CST.loc[:,\"Southeast_Florida\"],zero_series,zero_series,zero_series,zero_series,zero_series,\n",
    "     zero_series,df_EST.loc[:,\"Carolinas_MidAtlantic\"],zero_series,zero_series,zero_series,df_EST.loc[:,\"Midwest_MidAtlantic\"],zero_series,df_EST.loc[:,\"New_York_MidAtlantic\"],zero_series,zero_series,zero_series,df_CST.loc[:,\"Tennessee_MidAtlantic\"],zero_series,zero_series,zero_series,\n",
    "     zero_series,zero_series,df_CST.loc[:,\"Central_Midwest\"],zero_series,df_EST.loc[:,\"MidAtlantic_Midwest\"],zero_series,zero_series,zero_series,zero_series,df_CST.loc[:,\"Southeast_Midwest\"],zero_series,df_CST.loc[:,\"Tennessee_Midwest\"],zero_series,zero_series,zero_series,\n",
    "     zero_series,zero_series,zero_series,zero_series,zero_series,zero_series,zero_series,df_EST.loc[:,\"New_York_New_England\"],zero_series,zero_series,zero_series,zero_series,zero_series,zero_series,zero_series,\n",
    "     zero_series,zero_series,zero_series,zero_series,df_EST.loc[:,\"MidAtlantic_New_York\"],zero_series,df_EST.loc[:,\"New_England_New_York\"],zero_series,zero_series,zero_series,zero_series,zero_series,zero_series,zero_series,zero_series,\n",
    "     df_PST.loc[:,\"California_Northwest\"],zero_series,df_CST.loc[:,\"Central_Northwest\"],zero_series,zero_series,zero_series,zero_series,zero_series,zero_series,zero_series,df_Southwest.loc[:,\"Southwest_Northwest\"],zero_series,zero_series,zero_series,zero_series,\n",
    "     zero_series,df_EST.loc[:,\"Carolinas_Southeast\"],zero_series,df_EST.loc[:,\"Florida_Southeast\"],zero_series,df_EST.loc[:,\"Midwest_Southeast\"],zero_series,zero_series,zero_series,zero_series,zero_series,df_CST.loc[:,\"Tennessee_Southeast\"],zero_series,zero_series,zero_series,\n",
    "     df_PST.loc[:,\"California_Southwest\"],zero_series,df_CST.loc[:,\"Central_Southwest\"],zero_series,zero_series,zero_series,zero_series,zero_series,df_MST.loc[:,\"Northwest_Southwest\"],zero_series,zero_series,zero_series,zero_series,zero_series,zero_series,\n",
    "     zero_series,df_EST.loc[:,\"Carolinas_Tennessee\"],zero_series,zero_series,df_EST.loc[:,\"MidAtlantic_Tennessee\"],df_EST.loc[:,\"Midwest_Tennessee\"],zero_series,zero_series,zero_series,df_CST.loc[:,\"Southeast_Tennessee\"],zero_series,zero_series,zero_series,zero_series,zero_series,     \n",
    "     zero_series,zero_series,df_CST.loc[:,\"Central_Texas\"],zero_series,zero_series,zero_series,zero_series,zero_series,zero_series,zero_series,zero_series,zero_series,zero_series,zero_series,zero_series,\n",
    "     zero_series,zero_series,df_CST.loc[:,\"Central_Canada\"],zero_series,zero_series,df_EST.loc[:,\"Midwest_Canada\"],df_EST.loc[:,\"New_England_Canada\"],df_EST.loc[:,\"New_York_Canada\"],df_MST.loc[:,\"Northwest_Canada\"],zero_series,zero_series,zero_series,zero_series,zero_series,zero_series,     \n",
    "     df_PST.loc[:,\"California_Mexico\"],zero_series,zero_series,zero_series,zero_series,zero_series,zero_series,zero_series,zero_series,zero_series,zero_series,zero_series,df_CST.loc[:,\"Texas_Mexico\"],zero_series,zero_series],     \n",
    "    axis=1)"
   ]
  },
  {
   "cell_type": "code",
   "execution_count": 20,
   "metadata": {},
   "outputs": [],
   "source": [
    "# 对新的df的列名进行命名\n",
    "Interchange_All.columns=[\"California_California\",\"Carolinas_California\",\"Central_California\",\"Florida_California\",\"MidAtlantic_California\",\"Midwest_California\",\"New_England_California\",\"New_York_California\",\"Northwest_California\",\"Southeast_California\",\"Southwest_California\",\"Tennessee_California\",\"Texas_California\",\"Canada_California\",\"Mexico_California\",\n",
    "     \"California_Carolinas\",\"Carolinas_Carolinas\",\"Central_Carolinas\",\"Florida_Carolinas\",\"MidAtlantic_Carolinas\",\"Midwest_Carolinas\",\"New_England_Carolinas\",\"New_York_Carolinas\",\"Northwest_Carolinas\",\"Southeast_Carolinas\",\"Southwest_Carolinas\",\"Tennessee_Carolinas\",\"Texas_Carolinas\",\"Canada_Carolinas\",\"Mexico_Carolinas\",\n",
    "     \"California_Central\",\"Carolinas_Central\",\"Central_Central\",\"Florida_Central\",\"MidAtlantic_Central\",\"Midwest_Central\",\"New_England_Central\",\"New_York_Central\",\"Northwest_Central\",\"Southeast_Central\",\"Southwest_Central\",\"Tennessee_Central\",\"Texas_Central\",\"Canada_Central\",\"Mexico_Central\",\n",
    "     \"California_Florida\",\"Carolinas_Florida\",\"Central_Florida\",\"Florida_Florida\",\"MidAtlantic_Florida\",\"Midwest_Florida\",\"New_England_Florida\",\"New_York_Florida\",\"Northwest_Florida\",\"Southeast_Florida\",\"Southwest_Florida\",\"Tennessee_Florida\",\"Texas_Florida\",\"Canada_Florida\",\"Mexico_Florida\",\n",
    "     \"California_MidAtlantic\",\"Carolinas_MidAtlantic\",\"Central_MidAtlantic\",\"Florida_MidAtlantic\",\"MidAtlantic_MidAtlantic\",\"Midwest_MidAtlantic\",\"New_England_MidAtlantic\",\"New_York_MidAtlantic\",\"Northwest_MidAtlantic\",\"Southeast_MidAtlantic\",\"Southwest_MidAtlantic\",\"Tennessee_MidAtlantic\",\"Texas_MidAtlantic\",\"Canada_MidAtlantic\",\"Mexico_MidAtlantic\",\n",
    "     \"California_Midwest\",\"Carolinas_Midwest\",\"Central_Midwest\",\"Florida_Midwest\",\"MidAtlantic_Midwest\",\"Midwest_Midwest\",\"New_England_Midwest\",\"New_York_Midwest\",\"Northwest_Midwest\",\"Southeast_Midwest\",\"Southwest_Midwest\",\"Tennessee_Midwest\",\"Texas_Midwest\",\"Canada_Midwest\",\"Mexico_Midwest\",\n",
    "     \"California_New_England\",\"Carolinas_New_England\",\"Central_New_England\",\"Florida_New_England\",\"MidAtlantic_New_England\",\"Midwest_New_England\",\"New_England_New_England\",\"New_York_New_England\",\"Northwest_New_England\",\"Southeast_New_England\",\"Southwest_New_England\",\"Tennessee_New_England\",\"Texas_New_England\",\"Canada_New_England\",\"Mexico_New_England\",\n",
    "     \"California_New_York\",\"Carolinas_New_York\",\"Central_New_York\",\"Florida_New_York\",\"MidAtlantic_New_York\",\"Midwest_New_York\",\"New_England_New_York\",\"New_York_New_York\",\"Northwest_New_York\",\"Southeast_New_York\",\"Southwest_New_York\",\"Tennessee_New_York\",\"Texas_New_York\",\"Canada_New_York\",\"Mexico_New_York\",\n",
    "     \"California_Northwest\",\"Carolinas_Northwest\",\"Central_Northwest\",\"Florida_Northwest\",\"MidAtlantic_Northwest\",\"Midwest_Northwest\",\"New_England_Northwest\",\"New_York_Northwest\",\"Northwest_Northwest\",\"Southeast_Northwest\",\"Southwest_Northwest\",\"Tennessee_Northwest\",\"Texas_Northwest\",\"Canada_Northwest\",\"Mexico_Northwest\",\n",
    "     \"California_Southeast\",\"Carolinas_Southeast\",\"Central_Southeast\",\"Florida_Southeast\",\"MidAtlantic_Southeast\",\"Midwest_Southeast\",\"New_England_Southeast\",\"New_York_Southeast\",\"Northwest_Southeast\",\"Southeast_Southeast\",\"Southwest_Southeast\",\"Tennessee_Southeast\",\"Texas_Southeast\",\"Canada_Southeast\",\"Mexico_Southeast\",\n",
    "     \"California_Southwest\",\"Carolinas_Southwest\",\"Central_Southwest\",\"Florida_Southwest\",\"MidAtlantic_Southwest\",\"Midwest_Southwest\",\"New_England_Southwest\",\"New_York_Southwest\",\"Northwest_Southwest\",\"Southeast_Southwest\",\"Southwest_Southwest\",\"Tennessee_Southwest\",\"Texas_Southwest\",\"Canada_Southwest\",\"Mexico_Southwest\",\n",
    "     \"California_Tennessee\",\"Carolinas_Tennessee\",\"Central_Tennessee\",\"Florida_Tennessee\",\"MidAtlantic_Tennessee\",\"Midwest_Tennessee\",\"New_England_Tennessee\",\"New_York_Tennessee\",\"Northwest_Tennessee\",\"Southeast_Tennessee\",\"Southwest_Tennessee\",\"Tennessee_Tennessee\",\"Texas_Tennessee\",\"Canada_Tennessee\",\"Mexico_Tennessee\",\n",
    "     \"California_Texas\",\"Carolinas_Texas\",\"Central_Texas\",\"Florida_Texas\",\"MidAtlantic_Texas\",\"Midwest_Texas\",\"New_England_Texas\",\"New_York_Texas\",\"Northwest_Texas\",\"Southeast_Texas\",\"Southwest_Texas\",\"Tennessee_Texas\",\"Texas_Texas\",\"Canada_Texas\",\"Mexico_Texas\",\n",
    "     \"California_Canada\",\"Carolinas_Canada\",\"Central_Canada\",\"Florida_Canada\",\"MidAtlantic_Canada\",\"Midwest_Canada\",\"New_England_Canada\",\"New_York_Canada\",\"Northwest_Canada\",\"Southeast_Canada\",\"Southwest_Canada\",\"Tennessee_Canada\",\"Texas_Canada\",\"Canada_Canada\",\"Mexico_Canada\",\n",
    "     \"California_Mexico\",\"Carolinas_Mexico\",\"Central_Mexico\",\"Florida_Mexico\",\"MidAtlantic_Mexico\",\"Midwest_Mexico\",\"New_England_Mexico\",\"New_York_Mexico\",\"Northwest_Mexico\",\"Southeast_Mexico\",\"Southwest_Mexico\",\"Tennessee_Mexico\",\"Texas_Mexico\",\"Canada_Mexico\",\"Mexico_Mexico\"]"
   ]
  },
  {
   "cell_type": "code",
   "execution_count": 21,
   "metadata": {},
   "outputs": [],
   "source": [
    "# 写入excel\n",
    "f46path = \"./All/Interchange_2.xlsx\"\n",
    "Interchange_All.to_excel(f46path)"
   ]
  }
 ],
 "metadata": {
  "hide_input": false,
  "kernelspec": {
   "display_name": "Python 3",
   "language": "python",
   "name": "python3"
  },
  "language_info": {
   "codemirror_mode": {
    "name": "ipython",
    "version": 3
   },
   "file_extension": ".py",
   "mimetype": "text/x-python",
   "name": "python",
   "nbconvert_exporter": "python",
   "pygments_lexer": "ipython3",
   "version": "3.8.5"
  },
  "toc": {
   "base_numbering": 1,
   "nav_menu": {},
   "number_sections": true,
   "sideBar": true,
   "skip_h1_title": false,
   "title_cell": "Table of Contents",
   "title_sidebar": "Contents",
   "toc_cell": false,
   "toc_position": {},
   "toc_section_display": true,
   "toc_window_display": true
  },
  "varInspector": {
   "cols": {
    "lenName": 16,
    "lenType": 16,
    "lenVar": 40
   },
   "kernels_config": {
    "python": {
     "delete_cmd_postfix": "",
     "delete_cmd_prefix": "del ",
     "library": "var_list.py",
     "varRefreshCmd": "print(var_dic_list())"
    },
    "r": {
     "delete_cmd_postfix": ") ",
     "delete_cmd_prefix": "rm(",
     "library": "var_list.r",
     "varRefreshCmd": "cat(var_dic_list()) "
    }
   },
   "types_to_exclude": [
    "module",
    "function",
    "builtin_function_or_method",
    "instance",
    "_Feature"
   ],
   "window_display": false
  }
 },
 "nbformat": 4,
 "nbformat_minor": 4
}
