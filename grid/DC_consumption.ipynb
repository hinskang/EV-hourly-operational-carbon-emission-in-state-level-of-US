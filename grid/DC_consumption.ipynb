{
 "cells": [
  {
   "cell_type": "code",
   "execution_count": 1,
   "metadata": {},
   "outputs": [],
   "source": [
    "import pandas as pd"
   ]
  },
  {
   "cell_type": "markdown",
   "metadata": {},
   "source": [
    "# 读入数据"
   ]
  },
  {
   "cell_type": "code",
   "execution_count": 2,
   "metadata": {},
   "outputs": [],
   "source": [
    "f1path = \"./elec_consumption/Demand_for_California_(region)_hourly_-_local_time.xlsx\"\n",
    "Consump_California=pd.read_excel(f1path,usecols = ['Megawatthours'])\n",
    "\n",
    "f2path = \"./elec_consumption/Demand_for_Carolinas_(region)_hourly_-_local_time.xlsx\"\n",
    "Consump_Carolinas=pd.read_excel(f2path,usecols = ['Megawatthours'])\n",
    "\n",
    "f3path = \"./elec_consumption/Demand_for_Central_(region)_hourly_-_local_time.xlsx\"\n",
    "Consump_Central=pd.read_excel(f3path,usecols = ['Megawatthours'])\n",
    "\n",
    "f4path = \"./elec_consumption/Demand_for_Florida_(region)_hourly_-_local_time.xlsx\"\n",
    "Consump_Florida=pd.read_excel(f4path,usecols = ['Megawatthours'])\n",
    "\n",
    "f5path = \"./elec_consumption/Demand_for_Mid-Atlantic_(region)_hourly_-_local_time.xlsx\"\n",
    "Consump_MidAtlantic=pd.read_excel(f5path,usecols = ['Megawatthours'])\n",
    "\n",
    "f6path = \"./elec_consumption/Demand_for_Midwest_(region)_hourly_-_local_time.xlsx\"\n",
    "Consump_Midwest=pd.read_excel(f6path,usecols = ['Megawatthours'])\n",
    "\n",
    "f7path = \"./elec_consumption/Demand_for_New_England_(region)_hourly_-_local_time.xlsx\"\n",
    "Consump_New_England=pd.read_excel(f7path,usecols = ['Megawatthours'])\n",
    "\n",
    "f8path = \"./elec_consumption/Demand_for_New_York_(region)_hourly_-_local_time.xlsx\"\n",
    "Consump_New_York=pd.read_excel(f8path,usecols = ['Megawatthours'])\n",
    "\n",
    "f9path = \"./elec_consumption/Demand_for_Northwest_(region)_hourly_-_local_time.xlsx\"\n",
    "Consump_Northwest=pd.read_excel(f9path,usecols = ['Megawatthours'])\n",
    "\n",
    "f10path = \"./elec_consumption/Demand_for_Southeast_(region)_hourly_-_local_time.xlsx\"\n",
    "Consump_Southeast=pd.read_excel(f10path,usecols = ['Megawatthours'])\n",
    "\n",
    "f11path = \"./elec_consumption/Demand_for_Southwest_(region)_hourly_-_local_time.xlsx\"\n",
    "Consump_Southwest=pd.read_excel(f11path,usecols = ['Megawatthours'])\n",
    "\n",
    "f12path = \"./elec_consumption/Demand_for_Tennessee_(region)_hourly_-_local_time(q+).xlsx\"\n",
    "Consump_Tennessee=pd.read_excel(f12path,usecols = ['Megawatthours'])\n",
    "\n",
    "f13path = \"./elec_consumption/Demand_for_Texas_(region)_hourly_-_local_time(q+).xlsx\"\n",
    "Consump_Texas=pd.read_excel(f13path,usecols = ['Megawatthours'])\n",
    "\n",
    "Time_PST=pd.read_excel(f1path,usecols = ['Time'])\n",
    "Time_EST=pd.read_excel(f2path,usecols = ['Time'])\n",
    "Time_CST=pd.read_excel(f3path,usecols = ['Time'])\n",
    "Time_MST=pd.read_excel(f9path,usecols = ['Time'])\n",
    "Time_Southwest=pd.read_excel(f11path,usecols = ['Time'])"
   ]
  },
  {
   "cell_type": "code",
   "execution_count": 3,
   "metadata": {},
   "outputs": [],
   "source": [
    "# 传入interchange数据，构建Canada和Mexico的consumption数据，保持电力平衡等式\n",
    "f14path = \"./All/Interchange.xlsx\"\n",
    "Interchange=pd.read_excel(f14path)"
   ]
  },
  {
   "cell_type": "markdown",
   "metadata": {},
   "source": [
    "# 按时区建立df"
   ]
  },
  {
   "cell_type": "code",
   "execution_count": 4,
   "metadata": {},
   "outputs": [],
   "source": [
    "# PST,以列为方向合并series\n",
    "df_PST=pd.concat([Time_PST,Consump_California],axis=1)\n",
    "# 重命名列名\n",
    "df_PST.columns=[\"Time\",\"California\"] "
   ]
  },
  {
   "cell_type": "code",
   "execution_count": 5,
   "metadata": {},
   "outputs": [],
   "source": [
    "# MST\n",
    "df_MST=pd.concat([Time_MST,Consump_Northwest],axis=1)\n",
    "# 重命名列名\n",
    "df_MST.columns=[\"Time\",\"Northwest\"]"
   ]
  },
  {
   "cell_type": "code",
   "execution_count": 6,
   "metadata": {},
   "outputs": [],
   "source": [
    "# CST\n",
    "df_CST=pd.concat([Time_CST,Consump_Central,Consump_Southeast,Consump_Tennessee,Consump_Texas],axis=1)\n",
    "# 重命名列名\n",
    "df_CST.columns=[\"Time\",\"Central\",\"Southeast\",\"Tennessee\",\"Texas\"]"
   ]
  },
  {
   "cell_type": "code",
   "execution_count": 7,
   "metadata": {},
   "outputs": [],
   "source": [
    "# EST\n",
    "df_EST=pd.concat([Time_EST,Consump_Carolinas,Consump_Florida,Consump_MidAtlantic,Consump_Midwest,Consump_New_England,Consump_New_York],axis=1)\n",
    "# 重命名列名\n",
    "df_EST.columns=[\"Time\",\"Carolinas\",\"Florida\",\"MidAtlantic\",\"Midwest\",\"New_England\",\"New_York\"]"
   ]
  },
  {
   "cell_type": "code",
   "execution_count": 8,
   "metadata": {},
   "outputs": [],
   "source": [
    "# Southwest\n",
    "df_Southwest=pd.concat([Time_Southwest,Consump_Southwest],axis=1)\n",
    "# 重命名列名\n",
    "df_Southwest.columns=[\"Time\",\"Southwest\"]"
   ]
  },
  {
   "cell_type": "code",
   "execution_count": 9,
   "metadata": {},
   "outputs": [],
   "source": [
    "# Canada,它没有时区，只是用来平衡等式\n",
    "df_Canada=Interchange.loc[:,\"California_Canada\":\"Mexico_Canada\"]\n",
    "df_Canada[\"Canada\"]=df_Canada.apply(lambda x: x.sum(),axis=1) # 按列对同一行元素求和"
   ]
  },
  {
   "cell_type": "code",
   "execution_count": 10,
   "metadata": {},
   "outputs": [],
   "source": [
    "# Mexico,它没有时区，只是用来平衡等式\n",
    "df_Mexico=Interchange.loc[:,\"California_Mexico\":\"Mexico_Mexico\"]\n",
    "df_Mexico[\"Mexico\"]=df_Mexico.apply(lambda x: x.sum(),axis=1)"
   ]
  },
  {
   "cell_type": "markdown",
   "metadata": {},
   "source": [
    "# 填补df空值并建立行索引"
   ]
  },
  {
   "cell_type": "code",
   "execution_count": 11,
   "metadata": {},
   "outputs": [],
   "source": [
    "# 判断df_PST是否有空值，以列为方向填补缺失值\n",
    "list_PST=[\"California\"]\n",
    "\n",
    "for i in list_PST: \n",
    "    if df_PST[i].isnull().any():\n",
    "        df_PST.loc[:,i].interpolate(method=\"pchip\",inplace=True) # 分段立方埃尔米特插值\n",
    "\n",
    "#设置行索引为日期，并改变原导入数据，方便按日期筛选\n",
    "df_PST.set_index(\"Time\",inplace=True)             "
   ]
  },
  {
   "cell_type": "code",
   "execution_count": 12,
   "metadata": {},
   "outputs": [],
   "source": [
    "# 判断df_MST是否有空值，以列为方向填补缺失值\n",
    "list_MST=[\"Northwest\"]\n",
    "\n",
    "for i in list_MST:\n",
    "    if df_MST[i].isnull().any():\n",
    "        df_MST.loc[:,i].interpolate(method=\"pchip\",inplace=True) # 分段立方埃尔米特插值\n",
    "\n",
    "#设置行索引为日期，并改变原导入数据，方便按日期筛选\n",
    "df_MST.set_index(\"Time\",inplace=True)         "
   ]
  },
  {
   "cell_type": "code",
   "execution_count": 13,
   "metadata": {},
   "outputs": [],
   "source": [
    "# 判断df_CST是否有空值，以列为方向填补缺失值\n",
    "list_CST=[\"Central\",\"Southeast\",\"Tennessee\",\"Texas\"]\n",
    "\n",
    "for i in list_CST:\n",
    "    if df_CST[i].isnull().any():\n",
    "        df_CST.loc[:,i].interpolate(method=\"pchip\",inplace=True) # 分段立方埃尔米特插值\n",
    "\n",
    "#设置行索引为日期，并改变原导入数据，方便按日期筛选\n",
    "df_CST.set_index(\"Time\",inplace=True)         "
   ]
  },
  {
   "cell_type": "code",
   "execution_count": 14,
   "metadata": {},
   "outputs": [],
   "source": [
    "# 判断df_EST是否有空值，以列为方向填补缺失值\n",
    "list_EST=[\"Carolinas\",\"Florida\",\"MidAtlantic\",\"Midwest\",\"New_England\",\"New_York\"]\n",
    "\n",
    "for i in list_EST:\n",
    "    if df_EST[i].isnull().any():\n",
    "        df_EST.loc[:,i].interpolate(method=\"pchip\",inplace=True) # 分段立方埃尔米特插值\n",
    "\n",
    "#设置行索引为日期，并改变原导入数据，方便按日期筛选\n",
    "df_EST.set_index(\"Time\",inplace=True)        "
   ]
  },
  {
   "cell_type": "code",
   "execution_count": 15,
   "metadata": {},
   "outputs": [],
   "source": [
    "# 判断df_Southwest是否有空值，以列为方向填补缺失值\n",
    "list_Southwest=[\"Southwest\"]\n",
    "\n",
    "for i in list_Southwest:\n",
    "    if df_Southwest[i].isnull().any():\n",
    "        df_Southwest.loc[:,i].interpolate(method=\"pchip\",inplace=True) # 分段立方埃尔米特插值\n",
    "\n",
    "#设置行索引为日期，并改变原导入数据，方便按日期筛选\n",
    "df_Southwest.set_index(\"Time\",inplace=True)        "
   ]
  },
  {
   "cell_type": "markdown",
   "metadata": {},
   "source": [
    "# 截取数据"
   ]
  },
  {
   "cell_type": "code",
   "execution_count": 16,
   "metadata": {},
   "outputs": [],
   "source": [
    "# 截取数据# 对PST时区的所有列截取相同时间窗的数据（只要是同一个时区，起始点就是一样的,根本不用做循环）\n",
    "start_PST=\"01/31/22 23:00\"\n",
    "end_PST=\"01/01/19 00:00\"\n",
    "df_PST=df_PST.loc[start_PST:end_PST,:]\n",
    "\n",
    "# 将索引重新设置为默认值，并真正替换，方便后面合并series。必须要把原来索引drop掉，因为一个series不能变成一个dataframe\n",
    "df_PST.reset_index(inplace=True,drop=True)"
   ]
  },
  {
   "cell_type": "code",
   "execution_count": 17,
   "metadata": {},
   "outputs": [],
   "source": [
    "# 对MST时区的所有列截取相同时间窗的数据（只要是同一个时区，起始点就是一样的,根本不用做循环）\n",
    "start_MST=\"02/01/22 00:00\"\n",
    "end_MST=\"01/01/19 01:00\"\n",
    "df_MST=df_MST.loc[start_MST:end_MST,:]\n",
    "\n",
    "# 将索引重新设置为默认值，并真正替换，方便后面合并series。必须要把原来索引drop掉，因为一个series不能变成一个dataframe\n",
    "df_MST.reset_index(inplace=True,drop=True)"
   ]
  },
  {
   "cell_type": "code",
   "execution_count": 18,
   "metadata": {},
   "outputs": [],
   "source": [
    "# 对CST时区的所有列截取相同时间窗的数据（只要是同一个时区，起始点就是一样的,根本不用做循环）\n",
    "start_CST=\"02/01/22 01:00\"\n",
    "end_CST=\"01/01/19 02:00\"\n",
    "df_CST=df_CST.loc[start_CST:end_CST,:]\n",
    "\n",
    "# 将索引重新设置为默认值，并真正替换，方便后面合并series。必须要把原来索引drop掉，因为一个series不能变成一个dataframe\n",
    "df_CST.reset_index(inplace=True,drop=True)"
   ]
  },
  {
   "cell_type": "code",
   "execution_count": 19,
   "metadata": {},
   "outputs": [],
   "source": [
    "# 对EST时区的所有列截取相同时间窗的数据（只要是同一个时区，起始点就是一样的,根本不用做循环）\n",
    "start_EST=\"02/01/22 02:00\"\n",
    "end_EST=\"01/01/19 03:00\"\n",
    "df_EST=df_EST.loc[start_EST:end_EST,:]\n",
    "\n",
    "# 将索引重新设置为默认值，并真正替换，方便后面合并series。必须要把原来索引drop掉，因为一个series不能变成一个dataframe\n",
    "df_EST.reset_index(inplace=True,drop=True)"
   ]
  },
  {
   "cell_type": "code",
   "execution_count": 20,
   "metadata": {},
   "outputs": [],
   "source": [
    "# 对Southwest时区的所有列截取相同时间窗的数据（只要是同一个时区，起始点就是一样的,根本不用做循环）\n",
    "start_Southwest=\"02/01/22 00:00\"\n",
    "end_Southwest=\"01/01/19 01:00\"\n",
    "df_Southwest=df_Southwest.loc[start_Southwest:end_Southwest,:]\n",
    "\n",
    "# 将索引重新设置为默认值，并真正替换，方便后面合并series。必须要把原来索引drop掉，因为一个series不能变成一个dataframe\n",
    "df_Southwest.reset_index(inplace=True,drop=True)"
   ]
  },
  {
   "cell_type": "markdown",
   "metadata": {},
   "source": [
    "# 合并"
   ]
  },
  {
   "cell_type": "code",
   "execution_count": 21,
   "metadata": {
    "code_folding": []
   },
   "outputs": [],
   "source": [
    "Consumption_All=pd.concat(\n",
    "    [df_PST,\n",
    "     df_EST.loc[:,\"Carolinas\"],\n",
    "     df_CST.loc[:,\"Central\"],\n",
    "     df_EST.loc[:,\"Florida\"],\n",
    "     df_EST.loc[:,\"MidAtlantic\"],\n",
    "     df_EST.loc[:,\"Midwest\"],\n",
    "     df_EST.loc[:,\"New_England\"],\n",
    "     df_EST.loc[:,\"New_York\"],\n",
    "     df_MST,\n",
    "     df_CST.loc[:,\"Southeast\"],\n",
    "     df_Southwest,\n",
    "     df_CST.loc[:,\"Tennessee\"],\n",
    "     df_CST.loc[:,\"Texas\"],\n",
    "     df_Canada.loc[:,\"Canada\"],\n",
    "     df_Mexico.loc[:,\"Mexico\"]],\n",
    "    axis=1)\n",
    "\n",
    "# 写入excel\n",
    "f15path = \"./All/Consumption.xlsx\"\n",
    "Consumption_All.to_excel(f15path)"
   ]
  }
 ],
 "metadata": {
  "hide_input": false,
  "kernelspec": {
   "display_name": "Python 3",
   "language": "python",
   "name": "python3"
  },
  "language_info": {
   "codemirror_mode": {
    "name": "ipython",
    "version": 3
   },
   "file_extension": ".py",
   "mimetype": "text/x-python",
   "name": "python",
   "nbconvert_exporter": "python",
   "pygments_lexer": "ipython3",
   "version": "3.8.5"
  },
  "toc": {
   "base_numbering": 1,
   "nav_menu": {},
   "number_sections": true,
   "sideBar": true,
   "skip_h1_title": false,
   "title_cell": "Table of Contents",
   "title_sidebar": "Contents",
   "toc_cell": false,
   "toc_position": {},
   "toc_section_display": true,
   "toc_window_display": false
  },
  "varInspector": {
   "cols": {
    "lenName": 16,
    "lenType": 16,
    "lenVar": 40
   },
   "kernels_config": {
    "python": {
     "delete_cmd_postfix": "",
     "delete_cmd_prefix": "del ",
     "library": "var_list.py",
     "varRefreshCmd": "print(var_dic_list())"
    },
    "r": {
     "delete_cmd_postfix": ") ",
     "delete_cmd_prefix": "rm(",
     "library": "var_list.r",
     "varRefreshCmd": "cat(var_dic_list()) "
    }
   },
   "types_to_exclude": [
    "module",
    "function",
    "builtin_function_or_method",
    "instance",
    "_Feature"
   ],
   "window_display": false
  }
 },
 "nbformat": 4,
 "nbformat_minor": 4
}
