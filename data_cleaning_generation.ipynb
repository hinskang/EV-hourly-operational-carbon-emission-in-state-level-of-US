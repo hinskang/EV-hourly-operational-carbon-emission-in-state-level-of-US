{
 "cells": [
  {
   "cell_type": "code",
   "execution_count": 1,
   "metadata": {},
   "outputs": [],
   "source": [
    "import pandas as pd"
   ]
  },
  {
   "cell_type": "markdown",
   "metadata": {
    "heading_collapsed": true
   },
   "source": [
    "# 读入数据"
   ]
  },
  {
   "cell_type": "code",
   "execution_count": 2,
   "metadata": {
    "code_folding": [],
    "hidden": true
   },
   "outputs": [],
   "source": [
    "# 读入数据，只要列megawatthours\n",
    "f1path = \"./elec_generation/Net_generation_from_coal_for_California_(region)_hourly_-_local_time.xlsx\"\n",
    "coal_California=pd.read_excel(f1path,usecols = ['Megawatthours'])\n",
    "\n",
    "f2path = \"./elec_generation/Net_generation_from_coal_for_Carolinas_(region)_hourly_-_local_time.xlsx\"\n",
    "coal_Carolinas=pd.read_excel(f2path,usecols = ['Megawatthours'])\n",
    "\n",
    "f3path = \"./elec_generation/Net_generation_from_coal_for_Central_(region)_hourly_-_local_time.xlsx\"\n",
    "coal_Central=pd.read_excel(f3path,usecols = ['Megawatthours'])\n",
    "\n",
    "f4path = \"./elec_generation/Net_generation_from_coal_for_Florida_(region)_hourly_-_local_time.xlsx\"\n",
    "coal_Florida=pd.read_excel(f4path,usecols = ['Megawatthours'])\n",
    "\n",
    "f5path = \"./elec_generation/Net_generation_from_coal_for_Mid-Atlantic_(region)_hourly_-_local_time.xlsx\"\n",
    "coal_MidAtlantic=pd.read_excel(f5path,usecols = ['Megawatthours'])\n",
    "\n",
    "f6path = \"./elec_generation/Net_generation_from_coal_for_Midwest_(region)_hourly_-_local_time(q+).xlsx\"\n",
    "coal_Midwest=pd.read_excel(f6path,usecols = ['Megawatthours'])\n",
    "\n",
    "f7path = \"./elec_generation/Net_generation_from_coal_for_New_England_(region)_hourly_-_local_time.xlsx\"\n",
    "coal_New_England=pd.read_excel(f7path,usecols = ['Megawatthours'])\n",
    "\n",
    "f8path = \"./elec_generation/Net_generation_from_coal_for_New_York_(region)_hourly_-_local_time.xlsx\"\n",
    "coal_New_York=pd.read_excel(f7path,usecols = ['Megawatthours'])\n",
    "\n",
    "f9path = \"./elec_generation/Net_generation_from_coal_for_Northwest_(region)_hourly_-_local_time.xlsx\"\n",
    "coal_Northwest=pd.read_excel(f9path,usecols = ['Megawatthours'])\n",
    "\n",
    "f10path = \"./elec_generation/Net_generation_from_coal_for_Southeast_(region)_hourly_-_local_time.xlsx\"\n",
    "coal_Southeast=pd.read_excel(f10path,usecols = ['Megawatthours'])\n",
    "\n",
    "f11path = \"./elec_generation/Net_generation_from_coal_for_Southwest_(region)_hourly_-_local_time.xlsx\"\n",
    "coal_Southwest=pd.read_excel(f11path,usecols = ['Megawatthours'])\n",
    "\n",
    "f12path = \"./elec_generation/Net_generation_from_coal_for_Tennessee_(region)_hourly_-_local_time(q+).xlsx\"\n",
    "coal_Tennessee=pd.read_excel(f12path,usecols = ['Megawatthours'])\n",
    "\n",
    "f13path = \"./elec_generation/Net_generation_from_coal_for_Texas_(region)_hourly_-_local_time(q+).xlsx\"\n",
    "coal_Texas=pd.read_excel(f13path,usecols = ['Megawatthours'])\n",
    "\n",
    "f14path = \"./elec_generation/Net_generation_from_hydro_for_California_(region)_hourly_-_local_time.xlsx\"\n",
    "hydro_California=pd.read_excel(f14path,usecols = ['Megawatthours'])\n",
    "\n",
    "f15path = \"./elec_generation/Net_generation_from_hydro_for_Carolinas_(region)_hourly_-_local_time.xlsx\"\n",
    "hydro_Carolinas=pd.read_excel(f15path,usecols = ['Megawatthours'])\n",
    "\n",
    "f16path = \"./elec_generation/Net_generation_from_hydro_for_Central_(region)_hourly_-_local_time.xlsx\"\n",
    "hydro_Central=pd.read_excel(f16path,usecols = ['Megawatthours'])\n",
    "\n",
    "f17path = \"./elec_generation/Net_generation_from_hydro_for_Florida_(region)_hourly_-_local_time(q-).xlsx\"\n",
    "hydro_Florida=pd.read_excel(f17path,usecols = ['Megawatthours'])\n",
    "\n",
    "f18path = \"./elec_generation/Net_generation_from_hydro_for_Mid-Atlantic_(region)_hourly_-_local_time(q-).xlsx\"\n",
    "hydro_MidAtlantic=pd.read_excel(f18path,usecols = ['Megawatthours'])\n",
    "\n",
    "f19path = \"./elec_generation/Net_generation_from_hydro_for_Midwest_(region)_hourly_-_local_time(q+).xlsx\"\n",
    "hydro_Midwest=pd.read_excel(f19path,usecols = ['Megawatthours'])\n",
    "\n",
    "f20path = \"./elec_generation/Net_generation_from_hydro_for_New_England_(region)_hourly_-_local_time.xlsx\"\n",
    "hydro_New_England=pd.read_excel(f20path,usecols = ['Megawatthours'])\n",
    "\n",
    "f21path = \"./elec_generation/Net_generation_from_hydro_for_New_York_(region)_hourly_-_local_time(q-).xlsx\"\n",
    "hydro_New_York=pd.read_excel(f21path,usecols = ['Megawatthours'])\n",
    "\n",
    "f22path = \"./elec_generation/Net_generation_from_hydro_for_Northwest_(region)_hourly_-_local_time.xlsx\"\n",
    "hydro_Northwest=pd.read_excel(f22path,usecols = ['Megawatthours'])\n",
    "\n",
    "f23path = \"./elec_generation/Net_generation_from_hydro_for_Southeast_(region)_hourly_-_local_time.xlsx\"\n",
    "hydro_Southeast=pd.read_excel(f23path,usecols = ['Megawatthours'])\n",
    "\n",
    "f24path = \"./elec_generation/Net_generation_from_hydro_for_Southwest_(region)_hourly_-_local_time.xlsx\"\n",
    "hydro_Southwest=pd.read_excel(f24path,usecols = ['Megawatthours'])\n",
    "\n",
    "f25path = \"./elec_generation/Net_generation_from_hydro_for_Tennessee_(region)_hourly_-_local_time(q-).xlsx\"\n",
    "hydro_Tennessee=pd.read_excel(f25path,usecols = ['Megawatthours'])\n",
    "\n",
    "f26path = \"./elec_generation/Net_generation_from_hydro_for_Texas_(region)_hourly_-_local_time(q+).xlsx\"\n",
    "hydro_Texas=pd.read_excel(f26path,usecols = ['Megawatthours'])\n",
    "\n",
    "f27path = \"./elec_generation/Net_generation_from_natural_gas_for_California_(region)_hourly_-_local_time.xlsx\"\n",
    "natural_gas_California=pd.read_excel(f27path,usecols = ['Megawatthours'])\n",
    "\n",
    "f28path = \"./elec_generation/Net_generation_from_natural_gas_for_Carolinas_(region)_hourly_-_local_time.xlsx\"\n",
    "natural_gas_Carolinas=pd.read_excel(f28path,usecols = ['Megawatthours'])\n",
    "\n",
    "f29path = \"./elec_generation/Net_generation_from_natural_gas_for_Central_(region)_hourly_-_local_time.xlsx\"\n",
    "natural_gas_Central=pd.read_excel(f29path,usecols = ['Megawatthours'])\n",
    "\n",
    "f30path = \"./elec_generation/Net_generation_from_natural_gas_for_Florida_(region)_hourly_-_local_time.xlsx\"\n",
    "natural_gas_Florida=pd.read_excel(f30path,usecols = ['Megawatthours'])\n",
    "\n",
    "f31path = \"./elec_generation/Net_generation_from_natural_gas_for_Mid-Atlantic_(region)_hourly_-_local_time(q+).xlsx\"\n",
    "natural_gas_MidAtlantic=pd.read_excel(f31path,usecols = ['Megawatthours'])\n",
    "\n",
    "f32path = \"./elec_generation/Net_generation_from_natural_gas_for_Midwest_(region)_hourly_-_local_time(q+).xlsx\"\n",
    "natural_gas_Midwest=pd.read_excel(f32path,usecols = ['Megawatthours'])\n",
    "\n",
    "f33path = \"./elec_generation/Net_generation_from_natural_gas_for_New_England_(region)_hourly_-_local_time.xlsx\"\n",
    "natural_gas_New_England=pd.read_excel(f33path,usecols = ['Megawatthours'])\n",
    "\n",
    "f34path = \"./elec_generation/Net_generation_from_natural_gas_for_New_York_(region)_hourly_-_local_time.xlsx\"\n",
    "natural_gas_New_York=pd.read_excel(f34path,usecols = ['Megawatthours'])\n",
    "\n",
    "f35path = \"./elec_generation/Net_generation_from_natural_gas_for_Northwest_(region)_hourly_-_local_time.xlsx\"\n",
    "natural_gas_Northwest=pd.read_excel(f35path,usecols = ['Megawatthours'])\n",
    "\n",
    "f36path = \"./elec_generation/Net_generation_from_natural_gas_for_Southeast_(region)_hourly_-_local_time.xlsx\"\n",
    "natural_gas_Southeast=pd.read_excel(f36path,usecols = ['Megawatthours'])\n",
    "\n",
    "f37path = \"./elec_generation/Net_generation_from_natural_gas_for_Southwest_(region)_hourly_-_local_time.xlsx\"\n",
    "natural_gas_Southwest=pd.read_excel(f37path,usecols = ['Megawatthours'])\n",
    "\n",
    "f38path = \"./elec_generation/Net_generation_from_natural_gas_for_Tennessee_(region)_hourly_-_local_time(q+).xlsx\"\n",
    "natural_gas_Tennessee=pd.read_excel(f38path,usecols = ['Megawatthours'])\n",
    "\n",
    "f39path = \"./elec_generation/Net_generation_from_natural_gas_for_Texas_(region)_hourly_-_local_time(q+).xlsx\"\n",
    "natural_gas_Texas=pd.read_excel(f39path,usecols = ['Megawatthours'])\n",
    "\n",
    "f40path = \"./elec_generation/Net_generation_from_nuclear_for_California_(region)_hourly_-_local_time.xlsx\"\n",
    "nuclear_California=pd.read_excel(f40path,usecols = ['Megawatthours'])\n",
    "\n",
    "f41path = \"./elec_generation/Net_generation_from_nuclear_for_Carolinas_(region)_hourly_-_local_time.xlsx\"\n",
    "nuclear_Carolinas=pd.read_excel(f41path,usecols = ['Megawatthours'])\n",
    "\n",
    "f42path = \"./elec_generation/Net_generation_from_nuclear_for_Central_(region)_hourly_-_local_time.xlsx\"\n",
    "nuclear_Central=pd.read_excel(f42path,usecols = ['Megawatthours'])\n",
    "\n",
    "f43path = \"./elec_generation/Net_generation_from_nuclear_for_Florida_(region)_hourly_-_local_time.xlsx\"\n",
    "nuclear_Florida=pd.read_excel(f43path,usecols = ['Megawatthours'])\n",
    "\n",
    "f44path = \"./elec_generation/Net_generation_from_nuclear_for_Mid-Atlantic_(region)_hourly_-_local_time(q+).xlsx\"\n",
    "nuclear_MidAtlantic=pd.read_excel(f44path,usecols = ['Megawatthours'])\n",
    "\n",
    "f45path = \"./elec_generation/Net_generation_from_nuclear_for_Midwest_(region)_hourly_-_local_time(q+).xlsx\"\n",
    "nuclear_Midwest=pd.read_excel(f45path,usecols = ['Megawatthours'])\n",
    "\n",
    "f46path = \"./elec_generation/Net_generation_from_nuclear_for_New_England_(region)_hourly_-_local_time.xlsx\"\n",
    "nuclear_New_England=pd.read_excel(f46path,usecols = ['Megawatthours'])\n",
    "\n",
    "f47path = \"./elec_generation/Net_generation_from_nuclear_for_New_York_(region)_hourly_-_local_time.xlsx\"\n",
    "nuclear_New_York=pd.read_excel(f47path,usecols = ['Megawatthours'])\n",
    "\n",
    "f48path = \"./elec_generation/Net_generation_from_nuclear_for_Northwest_(region)_hourly_-_local_time(q+).xlsx\"\n",
    "nuclear_Northwest=pd.read_excel(f48path,usecols = ['Megawatthours'])\n",
    "\n",
    "f49path = \"./elec_generation/Net_generation_from_nuclear_for_Southeast_(region)_hourly_-_local_time(q-).xlsx\"\n",
    "nuclear_Southeast=pd.read_excel(f49path,usecols = ['Megawatthours'])\n",
    "\n",
    "f50path = \"./elec_generation/Net_generation_from_nuclear_for_Southwest_(region)_hourly_-_local_time.xlsx\"\n",
    "nuclear_Southwest=pd.read_excel(f50path,usecols = ['Megawatthours'])\n",
    "\n",
    "f51path = \"./elec_generation/Net_generation_from_nuclear_for_Tennessee_(region)_hourly_-_local_time(q+).xlsx\"\n",
    "nuclear_Tennessee=pd.read_excel(f51path,usecols = ['Megawatthours'])\n",
    "\n",
    "f52path = \"./elec_generation/Net_generation_from_nuclear_for_Texas_(region)_hourly_-_local_time(q+).xlsx\"\n",
    "nuclear_Texas=pd.read_excel(f52path,usecols = ['Megawatthours'])\n",
    "\n",
    "f53path = \"./elec_generation/Net_generation_from_other_for_California_(region)_hourly_-_local_time.xlsx\"\n",
    "other_California=pd.read_excel(f53path,usecols = ['Megawatthours'])\n",
    "\n",
    "f54path = \"./elec_generation/Net_generation_from_other_for_Carolinas_(region)_hourly_-_local_time.xlsx\"\n",
    "other_Carolinas=pd.read_excel(f54path,usecols = ['Megawatthours'])\n",
    "\n",
    "f55path = \"./elec_generation/Net_generation_from_other_for_Central_(region)_hourly_-_local_time.xlsx\"\n",
    "other_Central=pd.read_excel(f55path,usecols = ['Megawatthours'])\n",
    "\n",
    "f56path = \"./elec_generation/Net_generation_from_other_for_Florida_(region)_hourly_-_local_time.xlsx\"\n",
    "other_Florida=pd.read_excel(f56path,usecols = ['Megawatthours'])\n",
    "\n",
    "f57path = \"./elec_generation/Net_generation_from_other_for_Mid-Atlantic_(region)_hourly_-_local_time(q+).xlsx\"\n",
    "other_MidAtlantic=pd.read_excel(f57path,usecols = ['Megawatthours'])\n",
    "\n",
    "f58path = \"./elec_generation/Net_generation_from_other_for_Midwest_(region)_hourly_-_local_time(q+).xlsx\"\n",
    "other_Midwest=pd.read_excel(f58path,usecols = ['Megawatthours'])\n",
    "\n",
    "f59path = \"./elec_generation/Net_generation_from_other_for_New_England_(region)_hourly_-_local_time.xlsx\"\n",
    "other_New_England=pd.read_excel(f59path,usecols = ['Megawatthours'])\n",
    "\n",
    "f60path = \"./elec_generation/Net_generation_from_other_for_New_York_(region)_hourly_-_local_time.xlsx\"\n",
    "other_New_York=pd.read_excel(f60path,usecols = ['Megawatthours'])\n",
    "\n",
    "f61path = \"./elec_generation/Net_generation_from_other_for_Northwest_(region)_hourly_-_local_time.xlsx\"\n",
    "other_Northwest=pd.read_excel(f61path,usecols = ['Megawatthours'])\n",
    "\n",
    "f62path = \"./elec_generation/Net_generation_from_other_for_Southeast_(region)_hourly_-_local_time.xlsx\"\n",
    "other_Southeast=pd.read_excel(f62path,usecols = ['Megawatthours'])\n",
    "\n",
    "f63path = \"./elec_generation/Net_generation_from_other_for_Southwest_(region)_hourly_-_local_time.xlsx\"\n",
    "other_Southwest=pd.read_excel(f63path,usecols = ['Megawatthours'])\n",
    "\n",
    "f64path = \"./elec_generation/Net_generation_from_other_for_Tennessee_(region)_hourly_-_local_time.xlsx\"\n",
    "other_Tennessee=pd.read_excel(f64path,usecols = ['Megawatthours'])\n",
    "\n",
    "f65path = \"./elec_generation/Net_generation_from_other_for_Texas_(region)_hourly_-_local_time(q+).xlsx\"\n",
    "other_Texas=pd.read_excel(f65path,usecols = ['Megawatthours'])\n",
    "\n",
    "f66path = \"./elec_generation/Net_generation_from_petroleum_for_California_(region)_hourly_-_local_time.xlsx\"\n",
    "petroleum_California=pd.read_excel(f66path,usecols = ['Megawatthours'])\n",
    "\n",
    "f67path = \"./elec_generation/Net_generation_from_petroleum_for_Carolinas_(region)_hourly_-_local_time.xlsx\"\n",
    "petroleum_Carolinas=pd.read_excel(f67path,usecols = ['Megawatthours'])\n",
    "\n",
    "f68path = \"./elec_generation/Net_generation_from_petroleum_for_Central_(region)_hourly_-_local_time.xlsx\"\n",
    "petroleum_Central=pd.read_excel(f68path,usecols = ['Megawatthours'])\n",
    "\n",
    "f69path = \"./elec_generation/Net_generation_from_petroleum_for_Florida_(region)_hourly_-_local_time.xlsx\"\n",
    "petroleum_Florida=pd.read_excel(f69path,usecols = ['Megawatthours'])\n",
    "\n",
    "f70path = \"./elec_generation/Net_generation_from_petroleum_for_Mid-Atlantic_(region)_hourly_-_local_time(q+).xlsx\"\n",
    "petroleum_MidAtlantic=pd.read_excel(f70path,usecols = ['Megawatthours'])\n",
    "\n",
    "f71path = \"./elec_generation/Net_generation_from_petroleum_for_Midwest_(region)_hourly_-_local_time(q+).xlsx\"\n",
    "petroleum_Midwest=pd.read_excel(f71path,usecols = ['Megawatthours'])\n",
    "\n",
    "f72path = \"./elec_generation/Net_generation_from_petroleum_for_New_England_(region)_hourly_-_local_time.xlsx\"\n",
    "petroleum_New_England=pd.read_excel(f72path,usecols = ['Megawatthours'])\n",
    "\n",
    "f73path = \"./elec_generation/Net_generation_from_petroleum_for_New_York_(region)_hourly_-_local_time.xlsx\"\n",
    "petroleum_New_York=pd.read_excel(f73path,usecols = ['Megawatthours'])\n",
    "\n",
    "f74path = \"./elec_generation/Net_generation_from_petroleum_for_Northwest_(region)_hourly_-_local_time.xlsx\"\n",
    "petroleum_Northwest=pd.read_excel(f74path,usecols = ['Megawatthours'])\n",
    "\n",
    "f75path = \"./elec_generation/Net_generation_from_petroleum_for_Southeast_(region)_hourly_-_local_time(q-).xlsx\"\n",
    "petroleum_Southeast=pd.read_excel(f75path,usecols = ['Megawatthours'])\n",
    "\n",
    "f76path = \"./elec_generation/Net_generation_from_petroleum_for_Southwest_(region)_hourly_-_local_time.xlsx\"\n",
    "petroleum_Southwest=pd.read_excel(f76path,usecols = ['Megawatthours'])\n",
    "\n",
    "f77path = \"./elec_generation/Net_generation_from_petroleum_for_Tennessee_(region)_hourly_-_local_time(q+).xlsx\"\n",
    "petroleum_Tennessee=pd.read_excel(f77path,usecols = ['Megawatthours'])\n",
    "\n",
    "f78path = \"./elec_generation/Net_generation_from_solar_for_California_(region)_hourly_-_local_time.xlsx\"\n",
    "solar_California=pd.read_excel(f78path,usecols = ['Megawatthours'])\n",
    "\n",
    "f79path = \"./elec_generation/Net_generation_from_solar_for_Carolinas_(region)_hourly_-_local_time.xlsx\"\n",
    "solar_Carolinas=pd.read_excel(f79path,usecols = ['Megawatthours'])\n",
    "\n",
    "f80path = \"./elec_generation/Net_generation_from_solar_for_Central_(region)_hourly_-_local_time.xlsx\"\n",
    "solar_Central=pd.read_excel(f80path,usecols = ['Megawatthours'])\n",
    "\n",
    "f81path = \"./elec_generation/Net_generation_from_solar_for_Florida_(region)_hourly_-_local_time.xlsx\"\n",
    "solar_Florida=pd.read_excel(f81path,usecols = ['Megawatthours'])\n",
    "\n",
    "f82path = \"./elec_generation/Net_generation_from_solar_for_Mid-Atlantic_(region)_hourly_-_local_time(q+).xlsx\"\n",
    "solar_MidAtlantic=pd.read_excel(f82path,usecols = ['Megawatthours'])\n",
    "\n",
    "f83path = \"./elec_generation/Net_generation_from_solar_for_Midwest_(region)_hourly_-_local_time(q+).xlsx\"\n",
    "solar_Midwest=pd.read_excel(f83path,usecols = ['Megawatthours'])\n",
    "\n",
    "f84path = \"./elec_generation/Net_generation_from_solar_for_New_England_(region)_hourly_-_local_time.xlsx\"\n",
    "solar_New_England=pd.read_excel(f84path,usecols = ['Megawatthours'])\n",
    "\n",
    "f85path = \"./elec_generation/Net_generation_from_solar_for_New_York_(region)_hourly_-_local_time.xlsx\"\n",
    "solar_New_York=pd.read_excel(f85path,usecols = ['Megawatthours'])\n",
    "\n",
    "f86path = \"./elec_generation/Net_generation_from_solar_for_Northwest_(region)_hourly_-_local_time.xlsx\"\n",
    "solar_Northwest=pd.read_excel(f86path,usecols = ['Megawatthours'])\n",
    "\n",
    "f87path = \"./elec_generation/Net_generation_from_solar_for_Southeast_(region)_hourly_-_local_time(q-).xlsx\"\n",
    "solar_Southeast=pd.read_excel(f87path,usecols = ['Megawatthours'])\n",
    "\n",
    "f88path = \"./elec_generation/Net_generation_from_solar_for_Southwest_(region)_hourly_-_local_time.xlsx\"\n",
    "solar_Southwest=pd.read_excel(f88path,usecols = ['Megawatthours'])\n",
    "\n",
    "f89path = \"./elec_generation/Net_generation_from_solar_for_Tennessee_(region)_hourly_-_local_time(q+).xlsx\"\n",
    "solar_Tennessee=pd.read_excel(f89path,usecols = ['Megawatthours'])\n",
    "\n",
    "f90path = \"./elec_generation/Net_generation_from_solar_for_Texas_(region)_hourly_-_local_time(q+).xlsx\"\n",
    "solar_Texas=pd.read_excel(f90path,usecols = ['Megawatthours'])\n",
    "\n",
    "f91path = \"./elec_generation/Net_generation_from_wind_for_California_(region)_hourly_-_local_time.xlsx\"\n",
    "wind_California=pd.read_excel(f91path,usecols = ['Megawatthours'])\n",
    "\n",
    "f92path = \"./elec_generation/Net_generation_from_wind_for_Central_(region)_hourly_-_local_time.xlsx\"\n",
    "wind_Central=pd.read_excel(f92path,usecols = ['Megawatthours'])\n",
    "\n",
    "f93path = \"./elec_generation/Net_generation_from_wind_for_Mid-Atlantic_(region)_hourly_-_local_time(q+).xlsx\"\n",
    "wind_MidAtlantic=pd.read_excel(f93path,usecols = ['Megawatthours'])\n",
    "\n",
    "f94path = \"./elec_generation/Net_generation_from_wind_for_Midwest_(region)_hourly_-_local_time(q+).xlsx\"\n",
    "wind_Midwest=pd.read_excel(f94path,usecols = ['Megawatthours'])\n",
    "\n",
    "f95path = \"./elec_generation/Net_generation_from_wind_for_New_England_(region)_hourly_-_local_time.xlsx\"\n",
    "wind_New_England=pd.read_excel(f95path,usecols = ['Megawatthours'])\n",
    "\n",
    "f96path = \"./elec_generation/Net_generation_from_wind_for_New_York_(region)_hourly_-_local_time.xlsx\"\n",
    "wind_New_York=pd.read_excel(f96path,usecols = ['Megawatthours'])\n",
    "\n",
    "f97path = \"./elec_generation/Net_generation_from_wind_for_Northwest_(region)_hourly_-_local_time.xlsx\"\n",
    "wind_Northwest=pd.read_excel(f97path,usecols = ['Megawatthours'])\n",
    "\n",
    "f98path = \"./elec_generation/Net_generation_from_wind_for_Southeast_(region)_hourly_-_local_time(q-).xlsx\"\n",
    "wind_Southeast=pd.read_excel(f98path,usecols = ['Megawatthours'])\n",
    "\n",
    "f99path = \"./elec_generation/Net_generation_from_wind_for_Southwest_(region)_hourly_-_local_time.xlsx\"\n",
    "wind_Southwest=pd.read_excel(f99path,usecols = ['Megawatthours'])\n",
    "\n",
    "f100path = \"./elec_generation/Net_generation_from_wind_for_Tennessee_(region)_hourly_-_local_time(q+).xlsx\"\n",
    "wind_Tennessee=pd.read_excel(f100path,usecols = ['Megawatthours'])\n",
    "\n",
    "f101path = \"./elec_generation/Net_generation_from_wind_for_Texas_(region)_hourly_-_local_time(q+).xlsx\"\n",
    "wind_Texas=pd.read_excel(f101path,usecols = ['Megawatthours'])\n",
    "\n",
    "Time_PST=pd.read_excel(f1path,usecols = ['Time'])\n",
    "Time_EST=pd.read_excel(f2path,usecols = ['Time'])\n",
    "Time_CST=pd.read_excel(f3path,usecols = ['Time'])\n",
    "Time_MST=pd.read_excel(f9path,usecols = ['Time'])\n",
    "Time_Southwest=pd.read_excel(f11path,usecols = ['Time'])"
   ]
  },
  {
   "cell_type": "markdown",
   "metadata": {
    "heading_collapsed": true
   },
   "source": [
    "# 按时区建立df"
   ]
  },
  {
   "cell_type": "code",
   "execution_count": 3,
   "metadata": {
    "hidden": true
   },
   "outputs": [],
   "source": [
    "# PST,以列为方向合并series\n",
    "df_PST=pd.concat([Time_PST,coal_California,hydro_California,natural_gas_California,nuclear_California,other_California,petroleum_California,solar_California,wind_California],                                \n",
    "                 axis=1)\n",
    "# 重命名列名\n",
    "df_PST.columns=[\"Time\",\"coal_California\",\"hydro_California\",\"natural_gas_California\",\"nuclear_California\",\"other_California\",\"petroleum_California\",\"solar_California\",\"wind_California\"] "
   ]
  },
  {
   "cell_type": "code",
   "execution_count": 4,
   "metadata": {
    "hidden": true
   },
   "outputs": [],
   "source": [
    "# MST\n",
    "df_MST=pd.concat([Time_MST,coal_Northwest,hydro_Northwest,natural_gas_Northwest,nuclear_Northwest,other_Northwest,petroleum_Northwest,solar_Northwest,wind_Northwest],\n",
    "                 axis=1)\n",
    "# 重命名列名\n",
    "df_MST.columns=[\"Time\",\"coal_Northwest\",\"hydro_Northwest\",\"natural_gas_Northwest\",\"nuclear_Northwest\",\"other_Northwest\",\"petroleum_Northwest\",\"solar_Northwest\",\"wind_Northwest\"]"
   ]
  },
  {
   "cell_type": "code",
   "execution_count": 5,
   "metadata": {
    "hidden": true
   },
   "outputs": [],
   "source": [
    "# CST\n",
    "df_CST=pd.concat([Time_CST,coal_Central,hydro_Central,natural_gas_Central,nuclear_Central,other_Central,petroleum_Central,solar_Central,wind_Central,\n",
    "                 coal_Southeast,hydro_Southeast,natural_gas_Southeast,nuclear_Southeast,other_Southeast,petroleum_Southeast,solar_Southeast,wind_Southeast,\n",
    "                 coal_Tennessee,hydro_Tennessee,natural_gas_Tennessee,nuclear_Tennessee,other_Tennessee,petroleum_Tennessee,solar_Tennessee,wind_Tennessee,\n",
    "                 coal_Texas,hydro_Texas,natural_gas_Texas,nuclear_Texas,other_Texas,solar_Texas,wind_Texas],                 \n",
    "                 axis=1)\n",
    "# 重命名列名\n",
    "df_CST.columns=[\"Time\",\"coal_Central\",\"hydro_Central\",\"natural_gas_Central\",\"nuclear_Central\",\"other_Central\",\"petroleum_Central\",\"solar_Central\",\"wind_Central\",\n",
    "          \"coal_Southeast\",\"hydro_Southeast\",\"natural_gas_Southeast\",\"nuclear_Southeast\",\"other_Southeast\",\"petroleum_Southeast\",\"solar_Southeast\",\"wind_Southeast\",\n",
    "          \"coal_Tennessee\",\"hydro_Tennessee\",\"natural_gas_Tennessee\",\"nuclear_Tennessee\",\"other_Tennessee\",\"petroleum_Tennessee\",\"solar_Tennessee\",\"wind_Tennessee\",\n",
    "          \"coal_Texas\",\"hydro_Texas\",\"natural_gas_Texas\",\"nuclear_Texas\",\"other_Texas\",\"solar_Texas\",\"wind_Texas\"]"
   ]
  },
  {
   "cell_type": "code",
   "execution_count": 6,
   "metadata": {
    "hidden": true
   },
   "outputs": [],
   "source": [
    "# EST\n",
    "df_EST=pd.concat([Time_EST,coal_Carolinas,hydro_Carolinas,natural_gas_Carolinas,nuclear_Carolinas,other_Carolinas,petroleum_Carolinas,solar_Carolinas,\n",
    "                 coal_Florida,hydro_Florida,natural_gas_Florida,nuclear_Florida,other_Florida,petroleum_Florida,solar_Florida,\n",
    "                 coal_MidAtlantic,hydro_MidAtlantic,natural_gas_MidAtlantic,nuclear_MidAtlantic,other_MidAtlantic,petroleum_MidAtlantic,solar_MidAtlantic,wind_MidAtlantic,\n",
    "                 coal_Midwest,hydro_Midwest,natural_gas_Midwest,nuclear_Midwest,other_Midwest,petroleum_Midwest,solar_Midwest,wind_Midwest,\n",
    "                 coal_New_England,hydro_New_England,natural_gas_New_England,nuclear_New_England,other_New_England,petroleum_New_England,solar_New_England,wind_New_England,\n",
    "                 coal_New_York,hydro_New_York,natural_gas_New_York,nuclear_New_York,other_New_York,petroleum_New_York,solar_New_York,wind_New_York],                \n",
    "                 axis=1)\n",
    "# 重命名列名\n",
    "df_EST.columns=[\"Time\",\"coal_Carolinas\",\"hydro_Carolinas\",\"natural_gas_Carolinas\",\"nuclear_Carolinas\",\"other_Carolinas\",\"petroleum_Carolinas\",\"solar_Carolinas\",\n",
    "          \"coal_Florida\",\"hydro_Florida\",\"natural_gas_Florida\",\"nuclear_Florida\",\"other_Florida\",\"petroleum_Florida\",\"solar_Florida\",\n",
    "          \"coal_MidAtlantic\",\"hydro_MidAtlantic\",\"natural_gas_MidAtlantic\",\"nuclear_MidAtlantic\",\"other_MidAtlantic\",\"petroleum_MidAtlantic\",\"solar_MidAtlantic\",\"wind_MidAtlantic\",\n",
    "          \"coal_Midwest\",\"hydro_Midwest\",\"natural_gas_Midwest\",\"nuclear_Midwest\",\"other_Midwest\",\"petroleum_Midwest\",\"solar_Midwest\",\"wind_Midwest\",\n",
    "          \"coal_New_England\",\"hydro_New_England\",\"natural_gas_New_England\",\"nuclear_New_England\",\"other_New_England\",\"petroleum_New_England\",\"solar_New_England\",\"wind_New_England\",\n",
    "          \"coal_New_York\",\"hydro_New_York\",\"natural_gas_New_York\",\"nuclear_New_York\",\"other_New_York\",\"petroleum_New_York\",\"solar_New_York\",\"wind_New_York\"]"
   ]
  },
  {
   "cell_type": "code",
   "execution_count": 7,
   "metadata": {
    "hidden": true
   },
   "outputs": [],
   "source": [
    "# Southwest\n",
    "df_Southwest=pd.concat([Time_Southwest,coal_Southwest,hydro_Southwest,natural_gas_Southwest,nuclear_Southwest,other_Southwest,petroleum_Southwest,solar_Southwest,wind_Southwest],                       \n",
    "                       axis=1)\n",
    "# 重命名列名\n",
    "df_Southwest.columns=[\"Time\",\"coal_Southwest\",\"hydro_Southwest\",\"natural_gas_Southwest\",\"nuclear_Southwest\",\"other_Southwest\",\"petroleum_Southwest\",\"solar_Southwest\",\"wind_Southwest\"]"
   ]
  },
  {
   "cell_type": "markdown",
   "metadata": {
    "heading_collapsed": true
   },
   "source": [
    "# 填补df空值并建立行索引"
   ]
  },
  {
   "cell_type": "code",
   "execution_count": 8,
   "metadata": {
    "hidden": true
   },
   "outputs": [],
   "source": [
    "# 判断df_PST是否有空值，以列为方向填补缺失值\n",
    "list_PST=[\"coal_California\",\"hydro_California\",\"natural_gas_California\",\"nuclear_California\",\"other_California\",\"petroleum_California\",\"solar_California\",\"wind_California\"]\n",
    "\n",
    "for i in list_PST: \n",
    "    if df_PST[i].isnull().any():\n",
    "        df_PST.loc[:,i].interpolate(method=\"pchip\",inplace=True) # 分段立方埃尔米特插值\n",
    "\n",
    "#设置行索引为日期，并改变原导入数据，方便按日期筛选\n",
    "df_PST.set_index(\"Time\",inplace=True)                     "
   ]
  },
  {
   "cell_type": "code",
   "execution_count": 9,
   "metadata": {
    "hidden": true
   },
   "outputs": [],
   "source": [
    "# 判断df_MST是否有空值，以列为方向填补缺失值\n",
    "list_MST=[\"coal_Northwest\",\"hydro_Northwest\",\"natural_gas_Northwest\",\"nuclear_Northwest\",\"other_Northwest\",\"petroleum_Northwest\",\"solar_Northwest\",\"wind_Northwest\"]\n",
    "\n",
    "for i in list_MST:\n",
    "    if df_MST[i].isnull().any():\n",
    "        df_MST.loc[:,i].interpolate(method=\"pchip\",inplace=True) # 分段立方埃尔米特插值\n",
    "\n",
    "#设置行索引为日期，并改变原导入数据，方便按日期筛选\n",
    "df_MST.set_index(\"Time\",inplace=True)         "
   ]
  },
  {
   "cell_type": "code",
   "execution_count": 10,
   "metadata": {
    "hidden": true
   },
   "outputs": [],
   "source": [
    "# 判断df_CST是否有空值，以列为方向填补缺失值\n",
    "list_CST=[\"coal_Central\",\"hydro_Central\",\"natural_gas_Central\",\"nuclear_Central\",\"other_Central\",\"petroleum_Central\",\"solar_Central\",\"wind_Central\",\n",
    "          \"coal_Southeast\",\"hydro_Southeast\",\"natural_gas_Southeast\",\"nuclear_Southeast\",\"other_Southeast\",\"petroleum_Southeast\",\"solar_Southeast\",\"wind_Southeast\",\n",
    "          \"coal_Tennessee\",\"hydro_Tennessee\",\"natural_gas_Tennessee\",\"nuclear_Tennessee\",\"other_Tennessee\",\"petroleum_Tennessee\",\"solar_Tennessee\",\"wind_Tennessee\",\n",
    "          \"coal_Texas\",\"hydro_Texas\",\"natural_gas_Texas\",\"nuclear_Texas\",\"other_Texas\",\"solar_Texas\",\"wind_Texas\"]\n",
    "\n",
    "for i in list_CST:\n",
    "    if df_CST[i].isnull().any():\n",
    "        df_CST.loc[:,i].interpolate(method=\"pchip\",inplace=True) # 分段立方埃尔米特插值\n",
    "\n",
    "#设置行索引为日期，并改变原导入数据，方便按日期筛选\n",
    "df_CST.set_index(\"Time\",inplace=True)         "
   ]
  },
  {
   "cell_type": "code",
   "execution_count": 11,
   "metadata": {
    "hidden": true
   },
   "outputs": [],
   "source": [
    "# 判断df_EST是否有空值，以列为方向填补缺失值\n",
    "list_EST=[\"coal_Carolinas\",\"hydro_Carolinas\",\"natural_gas_Carolinas\",\"nuclear_Carolinas\",\"other_Carolinas\",\"petroleum_Carolinas\",\"solar_Carolinas\",\n",
    "          \"coal_Florida\",\"hydro_Florida\",\"natural_gas_Florida\",\"nuclear_Florida\",\"other_Florida\",\"petroleum_Florida\",\"solar_Florida\",\n",
    "          \"coal_MidAtlantic\",\"hydro_MidAtlantic\",\"natural_gas_MidAtlantic\",\"nuclear_MidAtlantic\",\"other_MidAtlantic\",\"petroleum_MidAtlantic\",\"solar_MidAtlantic\",\"wind_MidAtlantic\",\n",
    "          \"coal_Midwest\",\"hydro_Midwest\",\"natural_gas_Midwest\",\"nuclear_Midwest\",\"other_Midwest\",\"petroleum_Midwest\",\"solar_Midwest\",\"wind_Midwest\",\n",
    "          \"coal_New_England\",\"hydro_New_England\",\"natural_gas_New_England\",\"nuclear_New_England\",\"other_New_England\",\"petroleum_New_England\",\"solar_New_England\",\"wind_New_England\",\n",
    "          \"coal_New_York\",\"hydro_New_York\",\"natural_gas_New_York\",\"nuclear_New_York\",\"other_New_York\",\"petroleum_New_York\",\"solar_New_York\",\"wind_New_York\"]\n",
    "\n",
    "for i in list_EST:\n",
    "    if df_EST[i].isnull().any():\n",
    "        df_EST.loc[:,i].interpolate(method=\"pchip\",inplace=True) # 分段立方埃尔米特插值\n",
    "\n",
    "#设置行索引为日期，并改变原导入数据，方便按日期筛选\n",
    "df_EST.set_index(\"Time\",inplace=True)        "
   ]
  },
  {
   "cell_type": "code",
   "execution_count": 12,
   "metadata": {
    "hidden": true
   },
   "outputs": [],
   "source": [
    "# 判断df_Southwest是否有空值，以列为方向填补缺失值\n",
    "list_Southwest=[\"coal_Southwest\",\"hydro_Southwest\",\"natural_gas_Southwest\",\"nuclear_Southwest\",\"other_Southwest\",\"petroleum_Southwest\",\"solar_Southwest\",\"wind_Southwest\"]\n",
    "\n",
    "for i in list_Southwest:\n",
    "    if df_Southwest[i].isnull().any():\n",
    "        df_Southwest.loc[:,i].interpolate(method=\"pchip\",inplace=True) # 分段立方埃尔米特插值\n",
    "\n",
    "#设置行索引为日期，并改变原导入数据，方便按日期筛选\n",
    "df_Southwest.set_index(\"Time\",inplace=True)        "
   ]
  },
  {
   "cell_type": "markdown",
   "metadata": {
    "heading_collapsed": true
   },
   "source": [
    "# 截取数据"
   ]
  },
  {
   "cell_type": "code",
   "execution_count": 13,
   "metadata": {
    "hidden": true
   },
   "outputs": [],
   "source": [
    "# 截取数据# 对PST时区的所有列截取相同时间窗的数据（只要是同一个时区，起始点就是一样的,根本不用做循环）\n",
    "start_PST=\"01/31/22 23:00\"\n",
    "end_PST=\"01/01/19 00:00\"\n",
    "df_PST=df_PST.loc[start_PST:end_PST,:]\n",
    "\n",
    "# 将索引重新设置为默认值，并真正替换，方便后面合并series。必须要把原来索引drop掉，因为一个series不能变成一个dataframe\n",
    "df_PST.reset_index(inplace=True,drop=True)"
   ]
  },
  {
   "cell_type": "code",
   "execution_count": 14,
   "metadata": {
    "hidden": true
   },
   "outputs": [],
   "source": [
    "# 对MST时区的所有列截取相同时间窗的数据（只要是同一个时区，起始点就是一样的,根本不用做循环）\n",
    "start_MST=\"02/01/22 00:00\"\n",
    "end_MST=\"01/01/19 01:00\"\n",
    "df_MST=df_MST.loc[start_MST:end_MST,:]\n",
    "\n",
    "# 将索引重新设置为默认值，并真正替换，方便后面合并series。必须要把原来索引drop掉，因为一个series不能变成一个dataframe\n",
    "df_MST.reset_index(inplace=True,drop=True)"
   ]
  },
  {
   "cell_type": "code",
   "execution_count": 15,
   "metadata": {
    "hidden": true
   },
   "outputs": [],
   "source": [
    "# 对CST时区的所有列截取相同时间窗的数据（只要是同一个时区，起始点就是一样的,根本不用做循环）\n",
    "start_CST=\"02/01/22 01:00\"\n",
    "end_CST=\"01/01/19 02:00\"\n",
    "df_CST=df_CST.loc[start_CST:end_CST,:]\n",
    "\n",
    "# 将索引重新设置为默认值，并真正替换，方便后面合并series。必须要把原来索引drop掉，因为一个series不能变成一个dataframe\n",
    "df_CST.reset_index(inplace=True,drop=True)"
   ]
  },
  {
   "cell_type": "code",
   "execution_count": 16,
   "metadata": {
    "hidden": true
   },
   "outputs": [],
   "source": [
    "# 对EST时区的所有列截取相同时间窗的数据（只要是同一个时区，起始点就是一样的,根本不用做循环）\n",
    "start_EST=\"02/01/22 02:00\"\n",
    "end_EST=\"01/01/19 03:00\"\n",
    "df_EST=df_EST.loc[start_EST:end_EST,:]\n",
    "\n",
    "# 将索引重新设置为默认值，并真正替换，方便后面合并series。必须要把原来索引drop掉，因为一个series不能变成一个dataframe\n",
    "df_EST.reset_index(inplace=True,drop=True)"
   ]
  },
  {
   "cell_type": "code",
   "execution_count": 17,
   "metadata": {
    "hidden": true
   },
   "outputs": [],
   "source": [
    "# 对Southwest时区的所有列截取相同时间窗的数据（只要是同一个时区，起始点就是一样的,根本不用做循环）\n",
    "start_Southwest=\"02/01/22 00:00\"\n",
    "end_Southwest=\"01/01/19 01:00\"\n",
    "df_Southwest=df_Southwest.loc[start_Southwest:end_Southwest,:]\n",
    "\n",
    "# 将索引重新设置为默认值，并真正替换，方便后面合并series。必须要把原来索引drop掉，因为一个series不能变成一个dataframe\n",
    "df_Southwest.reset_index(inplace=True,drop=True)"
   ]
  },
  {
   "cell_type": "markdown",
   "metadata": {
    "heading_collapsed": true
   },
   "source": [
    "# 合并数据"
   ]
  },
  {
   "cell_type": "code",
   "execution_count": 18,
   "metadata": {
    "hidden": true
   },
   "outputs": [],
   "source": [
    "# 构建一个长度为27048全是0的series\n",
    "zero_series=pd.Series([0 for x in range(27048)])\n",
    "# 构建Canada和Mexico的series.由于假设它们只消耗不生产电能，故为series全为0\n",
    "Canada=pd.Series([0 for x in range(27048)],name=\"Canada\")\n",
    "Mexico=pd.Series([0 for x in range(27048)],name=\"Mexico\")"
   ]
  },
  {
   "cell_type": "code",
   "execution_count": 19,
   "metadata": {
    "hidden": true
   },
   "outputs": [],
   "source": [
    "# # 构建Canada和Mexico的series.由于假设它们只消耗不生产电能，故为series全为0\n",
    "# Canada=zero_`series\n",
    "# Mexico=zero_series\n",
    "# Canada.rename(\"Canada\",inplace=True) # series修改列名称用.rename，DataFrame用.columns\n",
    "# Mexico.rename(\"Mexico\",inplace=True)\n",
    "# # 这样子zero_series的列名就会变成Mexico,说明建立一个然后赋值其他会引发bug,应该逐个series建立"
   ]
  },
  {
   "cell_type": "code",
   "execution_count": 20,
   "metadata": {
    "hidden": true
   },
   "outputs": [],
   "source": [
    "# import pandas as pd\n",
    "\n",
    "# def return_zero_series():\n",
    "#     return zero_series\n",
    "\n",
    "# def call_zero_series(i):    \n",
    "#     for x in range(0,i,1):\n",
    "#         return_zero_series()\n",
    "#     return \n",
    "    \n",
    "# zero_series=pd.Series([0 for x in range(27048)])\n",
    "# call_zero_series(5)"
   ]
  },
  {
   "cell_type": "code",
   "execution_count": 21,
   "metadata": {
    "hidden": true
   },
   "outputs": [],
   "source": [
    "# 合并新的df,版本1，PNAS的方法\n",
    "Generation_All_v1=pd.concat(\n",
    "    [df_PST,# California\n",
    "     df_EST.loc[:,\"coal_Carolinas\":\"solar_Carolinas\"],\n",
    "     df_CST.loc[:,\"coal_Central\":\"wind_Central\"],\n",
    "     df_EST.loc[:,\"coal_Florida\":\"solar_Florida\"],\n",
    "     df_EST.loc[:,\"coal_MidAtlantic\":\"wind_MidAtlantic\"],\n",
    "     df_EST.loc[:,\"coal_Midwest\":\"wind_Midwest\"],\n",
    "     df_EST.loc[:,\"coal_New_England\":\"wind_New_England\"],\n",
    "     df_EST.loc[:,\"coal_New_York\":\"wind_New_York\"],\n",
    "     df_MST,# Northwest\n",
    "     df_CST.loc[:,\"coal_Southeast\":\"wind_Southeast\"],\n",
    "     df_Southwest,\n",
    "     df_CST.loc[:,\"coal_Tennessee\":\"wind_Tennessee\"],\n",
    "     df_CST.loc[:,\"coal_Texas\":\"wind_Texas\"],\n",
    "     Canada,\n",
    "     Mexico],\n",
    "    axis=1)\n",
    "\n",
    "# 写入excel\n",
    "f102path = \"./All/Generation_v1.xlsx\"\n",
    "Generation_All_v1.to_excel(f102path)"
   ]
  },
  {
   "cell_type": "code",
   "execution_count": 22,
   "metadata": {
    "hidden": true
   },
   "outputs": [],
   "source": [
    "# # 合并新的df,版本1，PNAS的方法\n",
    "# Generation_All_v1=pd.concat(\n",
    "#     [coal_California,hydro_California,natural_gas_California,nuclear_California,other_California,petroleum_California,solar_California,wind_California,\n",
    "#      coal_Carolinas,hydro_Carolinas,natural_gas_Carolinas,nuclear_Carolinas,other_Carolinas,petroleum_Carolinas,solar_Carolinas,\n",
    "#      coal_Central,hydro_Central,natural_gas_Central,nuclear_Central,other_Central,petroleum_Central,solar_Central,wind_Central,\n",
    "#      coal_Florida,hydro_Florida,natural_gas_Florida,nuclear_Florida,other_Florida,petroleum_Florida,solar_Florida,\n",
    "#      coal_MidAtlantic,hydro_MidAtlantic,natural_gas_MidAtlantic,nuclear_MidAtlantic,other_MidAtlantic,petroleum_MidAtlantic,solar_MidAtlantic,wind_MidAtlantic,\n",
    "#      coal_Midwest,hydro_Midwest,natural_gas_Midwest,nuclear_Midwest,other_Midwest,petroleum_Midwest,solar_Midwest,wind_Midwest,\n",
    "#      coal_New_England,hydro_New_England,natural_gas_New_England,nuclear_New_England,other_New_England,petroleum_New_England,solar_New_England,wind_New_England,\n",
    "#      coal_New_York,hydro_New_York,natural_gas_New_York,nuclear_New_York,other_New_York,petroleum_New_York,solar_New_York,wind_New_York,\n",
    "#      coal_Northwest,hydro_Northwest,natural_gas_Northwest,nuclear_Northwest,other_Northwest,petroleum_Northwest,solar_Northwest,wind_Northwest,\n",
    "#      coal_Southeast,hydro_Southeast,natural_gas_Southeast,nuclear_Southeast,other_Southeast,petroleum_Southeast,solar_Southeast,wind_Southeast,\n",
    "#      coal_Southwest,hydro_Southwest,natural_gas_Southwest,nuclear_Southwest,other_Southwest,petroleum_Southwest,solar_Southwest,wind_Southwest,\n",
    "#      coal_Tennessee,hydro_Tennessee,natural_gas_Tennessee,nuclear_Tennessee,other_Tennessee,petroleum_Tennessee,solar_Tennessee,wind_Tennessee,\n",
    "#      coal_Texas,hydro_Texas,natural_gas_Texas,nuclear_Texas,other_Texas,solar_Texas,wind_Texas,\n",
    "#      Canada,\n",
    "#      Mexico],\n",
    "#     axis=1)\n",
    "\n",
    "# # 写入excel\n",
    "# f102path = \"./All/Generation_v1.xlsx\"\n",
    "# Generation_All_v1.to_excel(f102path)"
   ]
  },
  {
   "cell_type": "code",
   "execution_count": 30,
   "metadata": {
    "code_folding": [],
    "hidden": true
   },
   "outputs": [],
   "source": [
    "# 合并新的df,版本2，Real-time的方法\n",
    "Generation_All_v2=pd.concat(\n",
    "    [df_PST.loc[:,\"coal_California\"],zero_series,zero_series,zero_series,zero_series,zero_series,zero_series,zero_series,zero_series,zero_series,zero_series,zero_series,zero_series,zero_series,zero_series,\n",
    "     df_PST.loc[:,\"hydro_California\"],zero_series,zero_series,zero_series,zero_series,zero_series,zero_series,zero_series,zero_series,zero_series,zero_series,zero_series,zero_series,zero_series,zero_series,\n",
    "     df_PST.loc[:,\"natural_gas_California\"],zero_series,zero_series,zero_series,zero_series,zero_series,zero_series,zero_series,zero_series,zero_series,zero_series,zero_series,zero_series,zero_series,zero_series,\n",
    "     df_PST.loc[:,\"nuclear_California\"],zero_series,zero_series,zero_series,zero_series,zero_series,zero_series,zero_series,zero_series,zero_series,zero_series,zero_series,zero_series,zero_series,zero_series,\n",
    "     df_PST.loc[:,\"other_California\"],zero_series,zero_series,zero_series,zero_series,zero_series,zero_series,zero_series,zero_series,zero_series,zero_series,zero_series,zero_series,zero_series,zero_series,\n",
    "     df_PST.loc[:,\"petroleum_California\"],zero_series,zero_series,zero_series,zero_series,zero_series,zero_series,zero_series,zero_series,zero_series,zero_series,zero_series,zero_series,zero_series,zero_series,\n",
    "     df_PST.loc[:,\"solar_California\"],zero_series,zero_series,zero_series,zero_series,zero_series,zero_series,zero_series,zero_series,zero_series,zero_series,zero_series,zero_series,zero_series,zero_series,\n",
    "     df_PST.loc[:,\"wind_California\"],zero_series,zero_series,zero_series,zero_series,zero_series,zero_series,zero_series,zero_series,zero_series,zero_series,zero_series,zero_series,zero_series,zero_series,\n",
    "     zero_series,df_EST.loc[:,\"coal_Carolinas\"],zero_series,zero_series,zero_series,zero_series,zero_series,zero_series,zero_series,zero_series,zero_series,zero_series,zero_series,zero_series,zero_series,\n",
    "     zero_series,df_EST.loc[:,\"hydro_Carolinas\"],zero_series,zero_series,zero_series,zero_series,zero_series,zero_series,zero_series,zero_series,zero_series,zero_series,zero_series,zero_series,zero_series,\n",
    "     zero_series,df_EST.loc[:,\"natural_gas_Carolinas\"],zero_series,zero_series,zero_series,zero_series,zero_series,zero_series,zero_series,zero_series,zero_series,zero_series,zero_series,zero_series,zero_series,\n",
    "     zero_series,df_EST.loc[:,\"nuclear_Carolinas\"],zero_series,zero_series,zero_series,zero_series,zero_series,zero_series,zero_series,zero_series,zero_series,zero_series,zero_series,zero_series,zero_series,\n",
    "     zero_series,df_EST.loc[:,\"other_Carolinas\"],zero_series,zero_series,zero_series,zero_series,zero_series,zero_series,zero_series,zero_series,zero_series,zero_series,zero_series,zero_series,zero_series,\n",
    "     zero_series,df_EST.loc[:,\"petroleum_Carolinas\"],zero_series,zero_series,zero_series,zero_series,zero_series,zero_series,zero_series,zero_series,zero_series,zero_series,zero_series,zero_series,zero_series,\n",
    "     zero_series,df_EST.loc[:,\"solar_Carolinas\"],zero_series,zero_series,zero_series,zero_series,zero_series,zero_series,zero_series,zero_series,zero_series,zero_series,zero_series,zero_series,zero_series,   \n",
    "     zero_series,zero_series,df_CST.loc[:,\"coal_Central\"],zero_series,zero_series,zero_series,zero_series,zero_series,zero_series,zero_series,zero_series,zero_series,zero_series,zero_series,zero_series,\n",
    "     zero_series,zero_series,df_CST.loc[:,\"hydro_Central\"],zero_series,zero_series,zero_series,zero_series,zero_series,zero_series,zero_series,zero_series,zero_series,zero_series,zero_series,zero_series,\n",
    "     zero_series,zero_series,df_CST.loc[:,\"natural_gas_Central\"],zero_series,zero_series,zero_series,zero_series,zero_series,zero_series,zero_series,zero_series,zero_series,zero_series,zero_series,zero_series,\n",
    "     zero_series,zero_series,df_CST.loc[:,\"nuclear_Central\"],zero_series,zero_series,zero_series,zero_series,zero_series,zero_series,zero_series,zero_series,zero_series,zero_series,zero_series,zero_series,\n",
    "     zero_series,zero_series,df_CST.loc[:,\"other_Central\"],zero_series,zero_series,zero_series,zero_series,zero_series,zero_series,zero_series,zero_series,zero_series,zero_series,zero_series,zero_series,\n",
    "     zero_series,zero_series,df_CST.loc[:,\"petroleum_Central\"],zero_series,zero_series,zero_series,zero_series,zero_series,zero_series,zero_series,zero_series,zero_series,zero_series,zero_series,zero_series,\n",
    "     zero_series,zero_series,df_CST.loc[:,\"solar_Central\"],zero_series,zero_series,zero_series,zero_series,zero_series,zero_series,zero_series,zero_series,zero_series,zero_series,zero_series,zero_series,\n",
    "     zero_series,zero_series,df_CST.loc[:,\"wind_Central\"],zero_series,zero_series,zero_series,zero_series,zero_series,zero_series,zero_series,zero_series,zero_series,zero_series,zero_series,zero_series,     \n",
    "     zero_series,zero_series,zero_series,df_EST.loc[:,\"coal_Florida\"],zero_series,zero_series,zero_series,zero_series,zero_series,zero_series,zero_series,zero_series,zero_series,zero_series,zero_series,\n",
    "     zero_series,zero_series,zero_series,df_EST.loc[:,\"hydro_Florida\"],zero_series,zero_series,zero_series,zero_series,zero_series,zero_series,zero_series,zero_series,zero_series,zero_series,zero_series,\n",
    "     zero_series,zero_series,zero_series,df_EST.loc[:,\"natural_gas_Florida\"],zero_series,zero_series,zero_series,zero_series,zero_series,zero_series,zero_series,zero_series,zero_series,zero_series,zero_series,\n",
    "     zero_series,zero_series,zero_series,df_EST.loc[:,\"nuclear_Florida\"],zero_series,zero_series,zero_series,zero_series,zero_series,zero_series,zero_series,zero_series,zero_series,zero_series,zero_series,\n",
    "     zero_series,zero_series,zero_series,df_EST.loc[:,\"other_Florida\"],zero_series,zero_series,zero_series,zero_series,zero_series,zero_series,zero_series,zero_series,zero_series,zero_series,zero_series,\n",
    "     zero_series,zero_series,zero_series,df_EST.loc[:,\"petroleum_Florida\"],zero_series,zero_series,zero_series,zero_series,zero_series,zero_series,zero_series,zero_series,zero_series,zero_series,zero_series,\n",
    "     zero_series,zero_series,zero_series,df_EST.loc[:,\"solar_Florida\"],zero_series,zero_series,zero_series,zero_series,zero_series,zero_series,zero_series,zero_series,zero_series,zero_series,zero_series,     \n",
    "     zero_series,zero_series,zero_series,zero_series,df_EST.loc[:,\"coal_MidAtlantic\"],zero_series,zero_series,zero_series,zero_series,zero_series,zero_series,zero_series,zero_series,zero_series,zero_series,\n",
    "     zero_series,zero_series,zero_series,zero_series,df_EST.loc[:,\"hydro_MidAtlantic\"],zero_series,zero_series,zero_series,zero_series,zero_series,zero_series,zero_series,zero_series,zero_series,zero_series,\n",
    "     zero_series,zero_series,zero_series,zero_series,df_EST.loc[:,\"natural_gas_MidAtlantic\"],zero_series,zero_series,zero_series,zero_series,zero_series,zero_series,zero_series,zero_series,zero_series,zero_series,\n",
    "     zero_series,zero_series,zero_series,zero_series,df_EST.loc[:,\"nuclear_MidAtlantic\"],zero_series,zero_series,zero_series,zero_series,zero_series,zero_series,zero_series,zero_series,zero_series,zero_series,\n",
    "     zero_series,zero_series,zero_series,zero_series,df_EST.loc[:,\"other_MidAtlantic\"],zero_series,zero_series,zero_series,zero_series,zero_series,zero_series,zero_series,zero_series,zero_series,zero_series,\n",
    "     zero_series,zero_series,zero_series,zero_series,df_EST.loc[:,\"petroleum_MidAtlantic\"],zero_series,zero_series,zero_series,zero_series,zero_series,zero_series,zero_series,zero_series,zero_series,zero_series,\n",
    "     zero_series,zero_series,zero_series,zero_series,df_EST.loc[:,\"solar_MidAtlantic\"],zero_series,zero_series,zero_series,zero_series,zero_series,zero_series,zero_series,zero_series,zero_series,zero_series,\n",
    "     zero_series,zero_series,zero_series,zero_series,df_EST.loc[:,\"wind_MidAtlantic\"],zero_series,zero_series,zero_series,zero_series,zero_series,zero_series,zero_series,zero_series,zero_series,zero_series,     \n",
    "     zero_series,zero_series,zero_series,zero_series,zero_series,df_EST.loc[:,\"coal_Midwest\"],zero_series,zero_series,zero_series,zero_series,zero_series,zero_series,zero_series,zero_series,zero_series,\n",
    "     zero_series,zero_series,zero_series,zero_series,zero_series,df_EST.loc[:,\"hydro_Midwest\"],zero_series,zero_series,zero_series,zero_series,zero_series,zero_series,zero_series,zero_series,zero_series,\n",
    "     zero_series,zero_series,zero_series,zero_series,zero_series,df_EST.loc[:,\"natural_gas_Midwest\"],zero_series,zero_series,zero_series,zero_series,zero_series,zero_series,zero_series,zero_series,zero_series,\n",
    "     zero_series,zero_series,zero_series,zero_series,zero_series,df_EST.loc[:,\"nuclear_Midwest\"],zero_series,zero_series,zero_series,zero_series,zero_series,zero_series,zero_series,zero_series,zero_series,\n",
    "     zero_series,zero_series,zero_series,zero_series,zero_series,df_EST.loc[:,\"other_Midwest\"],zero_series,zero_series,zero_series,zero_series,zero_series,zero_series,zero_series,zero_series,zero_series,\n",
    "     zero_series,zero_series,zero_series,zero_series,zero_series,df_EST.loc[:,\"petroleum_Midwest\"],zero_series,zero_series,zero_series,zero_series,zero_series,zero_series,zero_series,zero_series,zero_series,\n",
    "     zero_series,zero_series,zero_series,zero_series,zero_series,df_EST.loc[:,\"solar_Midwest\"],zero_series,zero_series,zero_series,zero_series,zero_series,zero_series,zero_series,zero_series,zero_series,\n",
    "     zero_series,zero_series,zero_series,zero_series,zero_series,df_EST.loc[:,\"wind_Midwest\"],zero_series,zero_series,zero_series,zero_series,zero_series,zero_series,zero_series,zero_series,zero_series,     \n",
    "     zero_series,zero_series,zero_series,zero_series,zero_series,zero_series,df_EST.loc[:,\"coal_New_England\"],zero_series,zero_series,zero_series,zero_series,zero_series,zero_series,zero_series,zero_series,\n",
    "     zero_series,zero_series,zero_series,zero_series,zero_series,zero_series,df_EST.loc[:,\"hydro_New_England\"],zero_series,zero_series,zero_series,zero_series,zero_series,zero_series,zero_series,zero_series,\n",
    "     zero_series,zero_series,zero_series,zero_series,zero_series,zero_series,df_EST.loc[:,\"natural_gas_New_England\"],zero_series,zero_series,zero_series,zero_series,zero_series,zero_series,zero_series,zero_series,\n",
    "     zero_series,zero_series,zero_series,zero_series,zero_series,zero_series,df_EST.loc[:,\"nuclear_New_England\"],zero_series,zero_series,zero_series,zero_series,zero_series,zero_series,zero_series,zero_series,\n",
    "     zero_series,zero_series,zero_series,zero_series,zero_series,zero_series,df_EST.loc[:,\"other_New_England\"],zero_series,zero_series,zero_series,zero_series,zero_series,zero_series,zero_series,zero_series,\n",
    "     zero_series,zero_series,zero_series,zero_series,zero_series,zero_series,df_EST.loc[:,\"petroleum_New_England\"],zero_series,zero_series,zero_series,zero_series,zero_series,zero_series,zero_series,zero_series,\n",
    "     zero_series,zero_series,zero_series,zero_series,zero_series,zero_series,df_EST.loc[:,\"solar_New_England\"],zero_series,zero_series,zero_series,zero_series,zero_series,zero_series,zero_series,zero_series,\n",
    "     zero_series,zero_series,zero_series,zero_series,zero_series,zero_series,df_EST.loc[:,\"wind_New_England\"],zero_series,zero_series,zero_series,zero_series,zero_series,zero_series,zero_series,zero_series,     \n",
    "     zero_series,zero_series,zero_series,zero_series,zero_series,zero_series,zero_series,df_EST.loc[:,\"coal_New_York\"],zero_series,zero_series,zero_series,zero_series,zero_series,zero_series,zero_series,\n",
    "     zero_series,zero_series,zero_series,zero_series,zero_series,zero_series,zero_series,df_EST.loc[:,\"hydro_New_York\"],zero_series,zero_series,zero_series,zero_series,zero_series,zero_series,zero_series,\n",
    "     zero_series,zero_series,zero_series,zero_series,zero_series,zero_series,zero_series,df_EST.loc[:,\"natural_gas_New_York\"],zero_series,zero_series,zero_series,zero_series,zero_series,zero_series,zero_series,\n",
    "     zero_series,zero_series,zero_series,zero_series,zero_series,zero_series,zero_series,df_EST.loc[:,\"nuclear_New_York\"],zero_series,zero_series,zero_series,zero_series,zero_series,zero_series,zero_series,\n",
    "     zero_series,zero_series,zero_series,zero_series,zero_series,zero_series,zero_series,df_EST.loc[:,\"other_New_York\"],zero_series,zero_series,zero_series,zero_series,zero_series,zero_series,zero_series,\n",
    "     zero_series,zero_series,zero_series,zero_series,zero_series,zero_series,zero_series,df_EST.loc[:,\"petroleum_New_York\"],zero_series,zero_series,zero_series,zero_series,zero_series,zero_series,zero_series,\n",
    "     zero_series,zero_series,zero_series,zero_series,zero_series,zero_series,zero_series,df_EST.loc[:,\"solar_New_York\"],zero_series,zero_series,zero_series,zero_series,zero_series,zero_series,zero_series,\n",
    "     zero_series,zero_series,zero_series,zero_series,zero_series,zero_series,zero_series,df_EST.loc[:,\"wind_New_York\"],zero_series,zero_series,zero_series,zero_series,zero_series,zero_series,zero_series,     \n",
    "     zero_series,zero_series,zero_series,zero_series,zero_series,zero_series,zero_series,zero_series,df_MST.loc[:,\"coal_Northwest\"],zero_series,zero_series,zero_series,zero_series,zero_series,zero_series,\n",
    "     zero_series,zero_series,zero_series,zero_series,zero_series,zero_series,zero_series,zero_series,df_MST.loc[:,\"hydro_Northwest\"],zero_series,zero_series,zero_series,zero_series,zero_series,zero_series,\n",
    "     zero_series,zero_series,zero_series,zero_series,zero_series,zero_series,zero_series,zero_series,df_MST.loc[:,\"natural_gas_Northwest\"],zero_series,zero_series,zero_series,zero_series,zero_series,zero_series,\n",
    "     zero_series,zero_series,zero_series,zero_series,zero_series,zero_series,zero_series,zero_series,df_MST.loc[:,\"nuclear_Northwest\"],zero_series,zero_series,zero_series,zero_series,zero_series,zero_series,\n",
    "     zero_series,zero_series,zero_series,zero_series,zero_series,zero_series,zero_series,zero_series,df_MST.loc[:,\"other_Northwest\"],zero_series,zero_series,zero_series,zero_series,zero_series,zero_series,\n",
    "     zero_series,zero_series,zero_series,zero_series,zero_series,zero_series,zero_series,zero_series,df_MST.loc[:,\"petroleum_Northwest\"],zero_series,zero_series,zero_series,zero_series,zero_series,zero_series,\n",
    "     zero_series,zero_series,zero_series,zero_series,zero_series,zero_series,zero_series,zero_series,df_MST.loc[:,\"solar_Northwest\"],zero_series,zero_series,zero_series,zero_series,zero_series,zero_series,\n",
    "     zero_series,zero_series,zero_series,zero_series,zero_series,zero_series,zero_series,zero_series,df_MST.loc[:,\"wind_Northwest\"],zero_series,zero_series,zero_series,zero_series,zero_series,zero_series,     \n",
    "     zero_series,zero_series,zero_series,zero_series,zero_series,zero_series,zero_series,zero_series,zero_series,df_CST.loc[:,\"coal_Southeast\"],zero_series,zero_series,zero_series,zero_series,zero_series,\n",
    "     zero_series,zero_series,zero_series,zero_series,zero_series,zero_series,zero_series,zero_series,zero_series,df_CST.loc[:,\"hydro_Southeast\"],zero_series,zero_series,zero_series,zero_series,zero_series,\n",
    "     zero_series,zero_series,zero_series,zero_series,zero_series,zero_series,zero_series,zero_series,zero_series,df_CST.loc[:,\"natural_gas_Southeast\"],zero_series,zero_series,zero_series,zero_series,zero_series,\n",
    "     zero_series,zero_series,zero_series,zero_series,zero_series,zero_series,zero_series,zero_series,zero_series,df_CST.loc[:,\"nuclear_Southeast\"],zero_series,zero_series,zero_series,zero_series,zero_series,\n",
    "     zero_series,zero_series,zero_series,zero_series,zero_series,zero_series,zero_series,zero_series,zero_series,df_CST.loc[:,\"other_Southeast\"],zero_series,zero_series,zero_series,zero_series,zero_series,\n",
    "     zero_series,zero_series,zero_series,zero_series,zero_series,zero_series,zero_series,zero_series,zero_series,df_CST.loc[:,\"petroleum_Southeast\"],zero_series,zero_series,zero_series,zero_series,zero_series,\n",
    "     zero_series,zero_series,zero_series,zero_series,zero_series,zero_series,zero_series,zero_series,zero_series,df_CST.loc[:,\"solar_Southeast\"],zero_series,zero_series,zero_series,zero_series,zero_series,\n",
    "     zero_series,zero_series,zero_series,zero_series,zero_series,zero_series,zero_series,zero_series,zero_series,df_CST.loc[:,\"wind_Southeast\"],zero_series,zero_series,zero_series,zero_series,zero_series,     \n",
    "     zero_series,zero_series,zero_series,zero_series,zero_series,zero_series,zero_series,zero_series,zero_series,zero_series,df_Southwest.loc[:,\"coal_Southwest\"],zero_series,zero_series,zero_series,zero_series,\n",
    "     zero_series,zero_series,zero_series,zero_series,zero_series,zero_series,zero_series,zero_series,zero_series,zero_series,df_Southwest.loc[:,\"hydro_Southwest\"],zero_series,zero_series,zero_series,zero_series,\n",
    "     zero_series,zero_series,zero_series,zero_series,zero_series,zero_series,zero_series,zero_series,zero_series,zero_series,df_Southwest.loc[:,\"natural_gas_Southwest\"],zero_series,zero_series,zero_series,zero_series,\n",
    "     zero_series,zero_series,zero_series,zero_series,zero_series,zero_series,zero_series,zero_series,zero_series,zero_series,df_Southwest.loc[:,\"nuclear_Southwest\"],zero_series,zero_series,zero_series,zero_series,\n",
    "     zero_series,zero_series,zero_series,zero_series,zero_series,zero_series,zero_series,zero_series,zero_series,zero_series,df_Southwest.loc[:,\"other_Southwest\"],zero_series,zero_series,zero_series,zero_series,\n",
    "     zero_series,zero_series,zero_series,zero_series,zero_series,zero_series,zero_series,zero_series,zero_series,zero_series,df_Southwest.loc[:,\"petroleum_Southwest\"],zero_series,zero_series,zero_series,zero_series,\n",
    "     zero_series,zero_series,zero_series,zero_series,zero_series,zero_series,zero_series,zero_series,zero_series,zero_series,df_Southwest.loc[:,\"solar_Southwest\"],zero_series,zero_series,zero_series,zero_series,\n",
    "     zero_series,zero_series,zero_series,zero_series,zero_series,zero_series,zero_series,zero_series,zero_series,zero_series,df_Southwest.loc[:,\"wind_Southwest\"],zero_series,zero_series,zero_series,zero_series,     \n",
    "     zero_series,zero_series,zero_series,zero_series,zero_series,zero_series,zero_series,zero_series,zero_series,zero_series,zero_series,df_CST.loc[:,\"coal_Tennessee\"],zero_series,zero_series,zero_series,\n",
    "     zero_series,zero_series,zero_series,zero_series,zero_series,zero_series,zero_series,zero_series,zero_series,zero_series,zero_series,df_CST.loc[:,\"hydro_Tennessee\"],zero_series,zero_series,zero_series,\n",
    "     zero_series,zero_series,zero_series,zero_series,zero_series,zero_series,zero_series,zero_series,zero_series,zero_series,zero_series,df_CST.loc[:,\"natural_gas_Tennessee\"],zero_series,zero_series,zero_series,\n",
    "     zero_series,zero_series,zero_series,zero_series,zero_series,zero_series,zero_series,zero_series,zero_series,zero_series,zero_series,df_CST.loc[:,\"nuclear_Tennessee\"],zero_series,zero_series,zero_series,\n",
    "     zero_series,zero_series,zero_series,zero_series,zero_series,zero_series,zero_series,zero_series,zero_series,zero_series,zero_series,df_CST.loc[:,\"other_Tennessee\"],zero_series,zero_series,zero_series,\n",
    "     zero_series,zero_series,zero_series,zero_series,zero_series,zero_series,zero_series,zero_series,zero_series,zero_series,zero_series,df_CST.loc[:,\"petroleum_Tennessee\"],zero_series,zero_series,zero_series,\n",
    "     zero_series,zero_series,zero_series,zero_series,zero_series,zero_series,zero_series,zero_series,zero_series,zero_series,zero_series,df_CST.loc[:,\"solar_Tennessee\"],zero_series,zero_series,zero_series,\n",
    "     zero_series,zero_series,zero_series,zero_series,zero_series,zero_series,zero_series,zero_series,zero_series,zero_series,zero_series,df_CST.loc[:,\"wind_Tennessee\"],zero_series,zero_series,zero_series,     \n",
    "     zero_series,zero_series,zero_series,zero_series,zero_series,zero_series,zero_series,zero_series,zero_series,zero_series,zero_series,zero_series,df_CST.loc[:,\"coal_Texas\"],zero_series,zero_series,\n",
    "     zero_series,zero_series,zero_series,zero_series,zero_series,zero_series,zero_series,zero_series,zero_series,zero_series,zero_series,zero_series,df_CST.loc[:,\"hydro_Texas\"],zero_series,zero_series,\n",
    "     zero_series,zero_series,zero_series,zero_series,zero_series,zero_series,zero_series,zero_series,zero_series,zero_series,zero_series,zero_series,df_CST.loc[:,\"natural_gas_Texas\"],zero_series,zero_series,\n",
    "     zero_series,zero_series,zero_series,zero_series,zero_series,zero_series,zero_series,zero_series,zero_series,zero_series,zero_series,zero_series,df_CST.loc[:,\"nuclear_Texas\"],zero_series,zero_series,\n",
    "     zero_series,zero_series,zero_series,zero_series,zero_series,zero_series,zero_series,zero_series,zero_series,zero_series,zero_series,zero_series,df_CST.loc[:,\"other_Texas\"],zero_series,zero_series,\n",
    "     zero_series,zero_series,zero_series,zero_series,zero_series,zero_series,zero_series,zero_series,zero_series,zero_series,zero_series,zero_series,df_CST.loc[:,\"solar_Texas\"],zero_series,zero_series,\n",
    "     zero_series,zero_series,zero_series,zero_series,zero_series,zero_series,zero_series,zero_series,zero_series,zero_series,zero_series,zero_series,df_CST.loc[:,\"wind_Texas\"],zero_series,zero_series,\n",
    "     zero_series,zero_series,zero_series,zero_series,zero_series,zero_series,zero_series,zero_series,zero_series,zero_series,zero_series,zero_series,zero_series,Canada,zero_series,\n",
    "     zero_series,zero_series,zero_series,zero_series,zero_series,zero_series,zero_series,zero_series,zero_series,zero_series,zero_series,zero_series,zero_series,zero_series,Mexico],\n",
    "    axis=1)\n",
    "\n",
    "# 写入excel\n",
    "f103path = \"./All/Generation_v2.xlsx\"\n",
    "Generation_All_v2.to_excel(f103path)"
   ]
  }
 ],
 "metadata": {
  "hide_input": false,
  "kernelspec": {
   "display_name": "Python 3",
   "language": "python",
   "name": "python3"
  },
  "language_info": {
   "codemirror_mode": {
    "name": "ipython",
    "version": 3
   },
   "file_extension": ".py",
   "mimetype": "text/x-python",
   "name": "python",
   "nbconvert_exporter": "python",
   "pygments_lexer": "ipython3",
   "version": "3.8.5"
  },
  "toc": {
   "base_numbering": 1,
   "nav_menu": {},
   "number_sections": true,
   "sideBar": true,
   "skip_h1_title": false,
   "title_cell": "Table of Contents",
   "title_sidebar": "Contents",
   "toc_cell": false,
   "toc_position": {},
   "toc_section_display": true,
   "toc_window_display": false
  },
  "varInspector": {
   "cols": {
    "lenName": 16,
    "lenType": 16,
    "lenVar": 40
   },
   "kernels_config": {
    "python": {
     "delete_cmd_postfix": "",
     "delete_cmd_prefix": "del ",
     "library": "var_list.py",
     "varRefreshCmd": "print(var_dic_list())"
    },
    "r": {
     "delete_cmd_postfix": ") ",
     "delete_cmd_prefix": "rm(",
     "library": "var_list.r",
     "varRefreshCmd": "cat(var_dic_list()) "
    }
   },
   "types_to_exclude": [
    "module",
    "function",
    "builtin_function_or_method",
    "instance",
    "_Feature"
   ],
   "window_display": false
  }
 },
 "nbformat": 4,
 "nbformat_minor": 4
}
