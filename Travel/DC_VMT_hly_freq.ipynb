{
 "cells": [
  {
   "cell_type": "code",
   "execution_count": 10,
   "metadata": {},
   "outputs": [],
   "source": [
    "# 这个脚本的功能是计算各州年平均每小时的出行距离占全天的比例\n",
    "# 使用的数据为2017年NHTS年调查数据，下载地址为：https://nhts.ornl.gov/\n",
    "# 下载数据的检索条件为：\n",
    "# 1）分析指标：Adjusted annual vehicle miles of travel(Travel Day VMT),\n",
    "# 2) Row variable: STRTTIME,\n",
    "# 3) Column variable: ENDTIME\n",
    "# 4) Page variable: HHSTATE\n",
    "# 脚本的流程为：载入数据——数据清洗——计算各州年平均每小时出行距离占全天的比例"
   ]
  },
  {
   "cell_type": "markdown",
   "metadata": {},
   "source": [
    "# 载入包与数据"
   ]
  },
  {
   "cell_type": "code",
   "execution_count": 11,
   "metadata": {},
   "outputs": [],
   "source": [
    "import pandas as pd\n",
    "import numpy as np"
   ]
  },
  {
   "cell_type": "code",
   "execution_count": 12,
   "metadata": {
    "code_folding": []
   },
   "outputs": [],
   "source": [
    "# 数据载入\n",
    "f1path=\"./01_VMT of each hour in each state.xlsx\"\n",
    "AL_VMT_hly=pd.read_excel(f1path,sheet_name=1,skiprows=[0,1,2])\n",
    "AR_VMT_hly=pd.read_excel(f1path,sheet_name=2,skiprows=[0,1,2])\n",
    "AZ_VMT_hly=pd.read_excel(f1path,sheet_name=3,skiprows=[0,1,2])\n",
    "CA_VMT_hly=pd.read_excel(f1path,sheet_name=4,skiprows=[0,1,2])\n",
    "CO_VMT_hly=pd.read_excel(f1path,sheet_name=5,skiprows=[0,1,2])\n",
    "CT_VMT_hly=pd.read_excel(f1path,sheet_name=6,skiprows=[0,1,2])\n",
    "DE_VMT_hly=pd.read_excel(f1path,sheet_name=8,skiprows=[0,1,2])\n",
    "FL_VMT_hly=pd.read_excel(f1path,sheet_name=9,skiprows=[0,1,2])\n",
    "GA_VMT_hly=pd.read_excel(f1path,sheet_name=10,skiprows=[0,1,2])\n",
    "IA_VMT_hly=pd.read_excel(f1path,sheet_name=12,skiprows=[0,1,2])\n",
    "ID_VMT_hly=pd.read_excel(f1path,sheet_name=13,skiprows=[0,1,2])\n",
    "IL_VMT_hly=pd.read_excel(f1path,sheet_name=14,skiprows=[0,1,2])\n",
    "IN_VMT_hly=pd.read_excel(f1path,sheet_name=15,skiprows=[0,1,2])\n",
    "KS_VMT_hly=pd.read_excel(f1path,sheet_name=16,skiprows=[0,1,2])\n",
    "KY_VMT_hly=pd.read_excel(f1path,sheet_name=17,skiprows=[0,1,2])\n",
    "LA_VMT_hly=pd.read_excel(f1path,sheet_name=18,skiprows=[0,1,2])\n",
    "MA_VMT_hly=pd.read_excel(f1path,sheet_name=19,skiprows=[0,1,2])\n",
    "MD_VMT_hly=pd.read_excel(f1path,sheet_name=20,skiprows=[0,1,2])\n",
    "ME_VMT_hly=pd.read_excel(f1path,sheet_name=21,skiprows=[0,1,2])\n",
    "MI_VMT_hly=pd.read_excel(f1path,sheet_name=22,skiprows=[0,1,2])\n",
    "MN_VMT_hly=pd.read_excel(f1path,sheet_name=23,skiprows=[0,1,2])\n",
    "MO_VMT_hly=pd.read_excel(f1path,sheet_name=24,skiprows=[0,1,2])\n",
    "MS_VMT_hly=pd.read_excel(f1path,sheet_name=25,skiprows=[0,1,2])\n",
    "MT_VMT_hly=pd.read_excel(f1path,sheet_name=26,skiprows=[0,1,2])\n",
    "NC_VMT_hly=pd.read_excel(f1path,sheet_name=27,skiprows=[0,1,2])\n",
    "ND_VMT_hly=pd.read_excel(f1path,sheet_name=28,skiprows=[0,1,2])\n",
    "NE_VMT_hly=pd.read_excel(f1path,sheet_name=29,skiprows=[0,1,2])\n",
    "NH_VMT_hly=pd.read_excel(f1path,sheet_name=30,skiprows=[0,1,2])\n",
    "NJ_VMT_hly=pd.read_excel(f1path,sheet_name=31,skiprows=[0,1,2])\n",
    "NM_VMT_hly=pd.read_excel(f1path,sheet_name=32,skiprows=[0,1,2])\n",
    "NV_VMT_hly=pd.read_excel(f1path,sheet_name=33,skiprows=[0,1,2])\n",
    "NY_VMT_hly=pd.read_excel(f1path,sheet_name=34,skiprows=[0,1,2])\n",
    "OH_VMT_hly=pd.read_excel(f1path,sheet_name=35,skiprows=[0,1,2])\n",
    "OK_VMT_hly=pd.read_excel(f1path,sheet_name=36,skiprows=[0,1,2])\n",
    "OR_VMT_hly=pd.read_excel(f1path,sheet_name=37,skiprows=[0,1,2])\n",
    "PA_VMT_hly=pd.read_excel(f1path,sheet_name=38,skiprows=[0,1,2])\n",
    "RI_VMT_hly=pd.read_excel(f1path,sheet_name=39,skiprows=[0,1,2])\n",
    "SC_VMT_hly=pd.read_excel(f1path,sheet_name=40,skiprows=[0,1,2])\n",
    "SD_VMT_hly=pd.read_excel(f1path,sheet_name=41,skiprows=[0,1,2])\n",
    "TN_VMT_hly=pd.read_excel(f1path,sheet_name=42,skiprows=[0,1,2])\n",
    "TX_VMT_hly=pd.read_excel(f1path,sheet_name=43,skiprows=[0,1,2])\n",
    "UT_VMT_hly=pd.read_excel(f1path,sheet_name=44,skiprows=[0,1,2])\n",
    "VA_VMT_hly=pd.read_excel(f1path,sheet_name=45,skiprows=[0,1,2])\n",
    "VT_VMT_hly=pd.read_excel(f1path,sheet_name=46,skiprows=[0,1,2])\n",
    "WA_VMT_hly=pd.read_excel(f1path,sheet_name=47,skiprows=[0,1,2])\n",
    "WI_VMT_hly=pd.read_excel(f1path,sheet_name=48,skiprows=[0,1,2])\n",
    "WV_VMT_hly=pd.read_excel(f1path,sheet_name=49,skiprows=[0,1,2])\n",
    "WY_VMT_hly=pd.read_excel(f1path,sheet_name=50,skiprows=[0,1,2])"
   ]
  },
  {
   "cell_type": "markdown",
   "metadata": {},
   "source": [
    "# 数据清洗"
   ]
  },
  {
   "cell_type": "code",
   "execution_count": 13,
   "metadata": {
    "code_folding": [
     0
    ]
   },
   "outputs": [],
   "source": [
    "# df任意位置添加1行的函数\n",
    "def df_insert(df, n, arr, ignore_index=False):\n",
    "    \"\"\"\n",
    "    DataFrame任意位置添加一行\n",
    "    :param df: DataFrame\n",
    "    :param n: 添加行号索引\n",
    "    :param arr: 添加数据\n",
    "    :param ignore_index: 是否无视行索引\n",
    "    :return: DataFrame\n",
    "    \"\"\"\n",
    "    df1 = df[:n]\n",
    "    df2 = df[n:]\n",
    "    df0 = df1.append([arr], ignore_index).append(df2, ignore_index)\n",
    "    return df0"
   ]
  },
  {
   "cell_type": "code",
   "execution_count": 14,
   "metadata": {
    "code_folding": [
     0
    ]
   },
   "outputs": [],
   "source": [
    "# df数据清洗函数\n",
    "def df_cleaning(df):\n",
    "    \"\"\"\n",
    "    df清洗函数。功能包括：1）统一列名和行名；2）填补行和列的缺失数据，缺失数据置0.\n",
    "    :df:待清洗DataFrame\n",
    "    :return:清洗后DataFrame\n",
    "    \"\"\"\n",
    "    ## part 1：统一列名和行名\n",
    "    # 第一列的名称改为Start,最后一列的名称改为row_sum\n",
    "    df.rename(columns={df.columns[0]:\"start\",df.columns[-1]:\"col_sum\"},inplace=True)\n",
    "    df.set_index(\"start\",inplace=True)\n",
    "    # 最后一行的名称改为col_sum\n",
    "    df.rename(index={df.index[-1]:\"row_sum\"},inplace=True)\n",
    "        \n",
    "    ## part 2：检查df是否有缺失行与列，并附空值进行补全\n",
    "    # 构造完备的列名和行名\n",
    "    full_col=['Hour\\nof\\n00:00', 'Hour\\nof\\n01:00', 'Hour\\nof\\n02:00',\n",
    "       'Hour\\nof\\n03:00', 'Hour\\nof\\n04:00', 'Hour\\nof\\n05:00',\n",
    "       'Hour\\nof\\n06:00', 'Hour\\nof\\n07:00', 'Hour\\nof\\n08:00',\n",
    "       'Hour\\nof\\n09:00', 'Hour\\nof\\n10:00', 'Hour\\nof\\n11:00',\n",
    "       'Hour\\nof\\n12:00', 'Hour\\nof\\n13:00', 'Hour\\nof\\n14:00',\n",
    "       'Hour\\nof\\n15:00', 'Hour\\nof\\n16:00', 'Hour\\nof\\n17:00',\n",
    "       'Hour\\nof\\n18:00', 'Hour\\nof\\n19:00', 'Hour\\nof\\n20:00',\n",
    "       'Hour\\nof\\n21:00', 'Hour\\nof\\n22:00', 'Hour\\nof\\n23:00', 'col_sum']\n",
    "    full_row=['Hour of\\n00:00', 'Hour of\\n01:00', 'Hour of\\n02:00', 'Hour of\\n03:00',\n",
    "       'Hour of\\n04:00', 'Hour of\\n05:00', 'Hour of\\n06:00', 'Hour of\\n07:00',\n",
    "       'Hour of\\n08:00', 'Hour of\\n09:00', 'Hour of\\n10:00', 'Hour of\\n11:00',\n",
    "       'Hour of\\n12:00', 'Hour of\\n13:00', 'Hour of\\n14:00', 'Hour of\\n15:00',\n",
    "       'Hour of\\n16:00', 'Hour of\\n17:00', 'Hour of\\n18:00', 'Hour of\\n19:00',\n",
    "       'Hour of\\n20:00', 'Hour of\\n21:00', 'Hour of\\n22:00', 'Hour of\\n23:00',\n",
    "       'row_sum']\n",
    "    # 检查空列\n",
    "    for i in full_col:\n",
    "        if i not in df.columns:\n",
    "            df.insert(loc=full_col.index(i),column=i,value=np.nan) \n",
    "            # 第一个参数指定插入列的位置，第二个参数指定插入列的列名，第三个参数指定插入列的数据\n",
    "    # 检查空行\n",
    "    # 补充的空行\n",
    "    NaN_row=pd.DataFrame(columns=full_col,index=[0])\n",
    "    for i in full_row:\n",
    "        if i not in df.index:\n",
    "            df=df_insert(df,full_row.index(i),NaN_row)\n",
    "    # 将.和空值都替换为0\n",
    "    df.replace(\".\",0,inplace=True)\n",
    "    df.replace(np.nan,0,inplace=True)\n",
    "    # 对行和列重新求和，以防下载下来的计算结果有误\n",
    "    df.loc[:,\"col_sum\"]=df.iloc[:,0:-2].sum(axis=1)\n",
    "    df.loc[\"row_sum\",:]=df.iloc[0:-2,:].sum()\n",
    "    ## 填补完空值，重新对行和列的标签进行赋值\n",
    "    df.index=full_row\n",
    "    df.columns=full_col\n",
    "    return df"
   ]
  },
  {
   "cell_type": "code",
   "execution_count": 15,
   "metadata": {
    "code_folding": [
     0
    ]
   },
   "outputs": [],
   "source": [
    "# 执行函数\n",
    "AL_VMT_hly=df_cleaning(AL_VMT_hly)\n",
    "AR_VMT_hly=df_cleaning(AR_VMT_hly)\n",
    "AZ_VMT_hly=df_cleaning(AZ_VMT_hly)\n",
    "CA_VMT_hly=df_cleaning(CA_VMT_hly)\n",
    "CO_VMT_hly=df_cleaning(CO_VMT_hly)\n",
    "CT_VMT_hly=df_cleaning(CT_VMT_hly)\n",
    "DE_VMT_hly=df_cleaning(DE_VMT_hly)\n",
    "FL_VMT_hly=df_cleaning(FL_VMT_hly)\n",
    "GA_VMT_hly=df_cleaning(GA_VMT_hly)\n",
    "IA_VMT_hly=df_cleaning(IA_VMT_hly)\n",
    "ID_VMT_hly=df_cleaning(ID_VMT_hly)\n",
    "IL_VMT_hly=df_cleaning(IL_VMT_hly)\n",
    "IN_VMT_hly=df_cleaning(IN_VMT_hly)\n",
    "KS_VMT_hly=df_cleaning(KS_VMT_hly)\n",
    "KY_VMT_hly=df_cleaning(KY_VMT_hly)\n",
    "LA_VMT_hly=df_cleaning(LA_VMT_hly)\n",
    "MA_VMT_hly=df_cleaning(MA_VMT_hly)\n",
    "MD_VMT_hly=df_cleaning(MD_VMT_hly)\n",
    "ME_VMT_hly=df_cleaning(ME_VMT_hly)\n",
    "MI_VMT_hly=df_cleaning(MI_VMT_hly)\n",
    "MN_VMT_hly=df_cleaning(MN_VMT_hly)\n",
    "MO_VMT_hly=df_cleaning(MO_VMT_hly)\n",
    "MS_VMT_hly=df_cleaning(MS_VMT_hly)\n",
    "MT_VMT_hly=df_cleaning(MT_VMT_hly)\n",
    "NC_VMT_hly=df_cleaning(NC_VMT_hly)\n",
    "ND_VMT_hly=df_cleaning(ND_VMT_hly)\n",
    "NE_VMT_hly=df_cleaning(NE_VMT_hly)\n",
    "NH_VMT_hly=df_cleaning(NH_VMT_hly)\n",
    "NJ_VMT_hly=df_cleaning(NJ_VMT_hly)\n",
    "NM_VMT_hly=df_cleaning(NM_VMT_hly)\n",
    "NV_VMT_hly=df_cleaning(NV_VMT_hly)\n",
    "NY_VMT_hly=df_cleaning(NY_VMT_hly)\n",
    "OH_VMT_hly=df_cleaning(OH_VMT_hly)\n",
    "OK_VMT_hly=df_cleaning(OK_VMT_hly)\n",
    "OR_VMT_hly=df_cleaning(OR_VMT_hly)\n",
    "PA_VMT_hly=df_cleaning(PA_VMT_hly)\n",
    "RI_VMT_hly=df_cleaning(RI_VMT_hly)\n",
    "SC_VMT_hly=df_cleaning(SC_VMT_hly)\n",
    "SD_VMT_hly=df_cleaning(SD_VMT_hly)\n",
    "TN_VMT_hly=df_cleaning(TN_VMT_hly)\n",
    "TX_VMT_hly=df_cleaning(TX_VMT_hly)\n",
    "UT_VMT_hly=df_cleaning(UT_VMT_hly)\n",
    "VA_VMT_hly=df_cleaning(VA_VMT_hly)\n",
    "VT_VMT_hly=df_cleaning(VT_VMT_hly)\n",
    "WA_VMT_hly=df_cleaning(WA_VMT_hly)\n",
    "WI_VMT_hly=df_cleaning(WI_VMT_hly)\n",
    "WV_VMT_hly=df_cleaning(WV_VMT_hly)\n",
    "WY_VMT_hly=df_cleaning(WY_VMT_hly)"
   ]
  },
  {
   "cell_type": "markdown",
   "metadata": {},
   "source": [
    "# 计算各小时的出行距离占全天的比例"
   ]
  },
  {
   "cell_type": "code",
   "execution_count": 16,
   "metadata": {
    "code_folding": [
     0
    ]
   },
   "outputs": [],
   "source": [
    "# 每小时出行距离占全天出行距离比例（即，强度）计算函数\n",
    "def hly_freq(df):\n",
    "    \"\"\"\n",
    "    计算每小时的出行强度。公式为：（每行的和+每列的和-对角线元素）/24小时出行量总和\n",
    "    :param df:含起终时间的出行距离统计DataFrame\n",
    "    :return: 各小时出行距离强度(比例)的DataFrame。24小时强度之和为1。\n",
    "    \"\"\"\n",
    "    # 构建装在各小时出行距离强度的DataFrame\n",
    "    hlyfreq_col=['00:00', '01:00', '02:00','03:00', '04:00', '05:00','06:00', '07:00', '08:00','09:00', '10:00', '11:00',\n",
    "             '12:00', '13:00', '14:00','15:00', '16:00', '17:00','18:00', '19:00', '20:00','21:00', '22:00', '23:00']\n",
    "    df_freq=pd.DataFrame(columns=hlyfreq_col,index=[\"freq\"])\n",
    "    \n",
    "    \n",
    "    # 计算每小时的出行距离强度。公式为：（每行的和+每列的和-对角线元素）/24小时出行量总和\n",
    "    Num_hours=24\n",
    "    for i in range(0,Num_hours,1):\n",
    "        df_freq.iloc[0,i]=df.iloc[-1,i]+df.iloc[i,-1]-df.iloc[i,i]\n",
    "    # 24小时出行量总和\n",
    "    df_freq['sum'] = df_freq.sum(axis=1)\n",
    "    # 计算各小时出行距离强度\n",
    "    for i in range(0,Num_hours,1):\n",
    "        df_freq.iloc[0,i]=df_freq.iloc[0,i]/df_freq.iloc[0,-1]\n",
    "    df_freq['sum'] = df_freq.iloc[:,0:-2].sum(axis=1)\n",
    "    return df_freq"
   ]
  },
  {
   "cell_type": "code",
   "execution_count": 17,
   "metadata": {
    "code_folding": [
     0
    ]
   },
   "outputs": [],
   "source": [
    "# 执行函数\n",
    "AL_VMT_hlyfreq=hly_freq(AL_VMT_hly)\n",
    "AR_VMT_hlyfreq=hly_freq(AR_VMT_hly)\n",
    "AZ_VMT_hlyfreq=hly_freq(AZ_VMT_hly)\n",
    "CA_VMT_hlyfreq=hly_freq(CA_VMT_hly)\n",
    "CO_VMT_hlyfreq=hly_freq(CO_VMT_hly)\n",
    "CT_VMT_hlyfreq=hly_freq(CT_VMT_hly)\n",
    "DE_VMT_hlyfreq=hly_freq(DE_VMT_hly)\n",
    "FL_VMT_hlyfreq=hly_freq(FL_VMT_hly)\n",
    "GA_VMT_hlyfreq=hly_freq(GA_VMT_hly)\n",
    "IA_VMT_hlyfreq=hly_freq(IA_VMT_hly)\n",
    "ID_VMT_hlyfreq=hly_freq(ID_VMT_hly)\n",
    "IL_VMT_hlyfreq=hly_freq(IL_VMT_hly)\n",
    "IN_VMT_hlyfreq=hly_freq(IN_VMT_hly)\n",
    "KS_VMT_hlyfreq=hly_freq(KS_VMT_hly)\n",
    "KY_VMT_hlyfreq=hly_freq(KY_VMT_hly)\n",
    "LA_VMT_hlyfreq=hly_freq(LA_VMT_hly)\n",
    "MA_VMT_hlyfreq=hly_freq(MA_VMT_hly)\n",
    "MD_VMT_hlyfreq=hly_freq(MD_VMT_hly)\n",
    "ME_VMT_hlyfreq=hly_freq(ME_VMT_hly)\n",
    "MI_VMT_hlyfreq=hly_freq(MI_VMT_hly)\n",
    "MN_VMT_hlyfreq=hly_freq(MN_VMT_hly)\n",
    "MO_VMT_hlyfreq=hly_freq(MO_VMT_hly)\n",
    "MS_VMT_hlyfreq=hly_freq(MS_VMT_hly)\n",
    "MT_VMT_hlyfreq=hly_freq(MT_VMT_hly)\n",
    "NC_VMT_hlyfreq=hly_freq(NC_VMT_hly)\n",
    "ND_VMT_hlyfreq=hly_freq(ND_VMT_hly)\n",
    "NE_VMT_hlyfreq=hly_freq(NE_VMT_hly)\n",
    "NH_VMT_hlyfreq=hly_freq(NH_VMT_hly)\n",
    "NJ_VMT_hlyfreq=hly_freq(NJ_VMT_hly)\n",
    "NM_VMT_hlyfreq=hly_freq(NM_VMT_hly)\n",
    "NV_VMT_hlyfreq=hly_freq(NV_VMT_hly)\n",
    "NY_VMT_hlyfreq=hly_freq(NY_VMT_hly)\n",
    "OH_VMT_hlyfreq=hly_freq(OH_VMT_hly)\n",
    "OK_VMT_hlyfreq=hly_freq(OK_VMT_hly)\n",
    "OR_VMT_hlyfreq=hly_freq(OR_VMT_hly)\n",
    "PA_VMT_hlyfreq=hly_freq(PA_VMT_hly)\n",
    "RI_VMT_hlyfreq=hly_freq(RI_VMT_hly)\n",
    "SC_VMT_hlyfreq=hly_freq(SC_VMT_hly)\n",
    "SD_VMT_hlyfreq=hly_freq(SD_VMT_hly)\n",
    "TN_VMT_hlyfreq=hly_freq(TN_VMT_hly)\n",
    "TX_VMT_hlyfreq=hly_freq(TX_VMT_hly)\n",
    "UT_VMT_hlyfreq=hly_freq(UT_VMT_hly)\n",
    "VA_VMT_hlyfreq=hly_freq(VA_VMT_hly)\n",
    "VT_VMT_hlyfreq=hly_freq(VT_VMT_hly)\n",
    "WA_VMT_hlyfreq=hly_freq(WA_VMT_hly)\n",
    "WI_VMT_hlyfreq=hly_freq(WI_VMT_hly)\n",
    "WV_VMT_hlyfreq=hly_freq(WV_VMT_hly)\n",
    "WY_VMT_hlyfreq=hly_freq(WY_VMT_hly)"
   ]
  },
  {
   "cell_type": "markdown",
   "metadata": {},
   "source": [
    "# 结果输出"
   ]
  },
  {
   "cell_type": "code",
   "execution_count": 18,
   "metadata": {},
   "outputs": [],
   "source": [
    "# 建立装在输出结果的df\n",
    "VMT_hlyfreq=pd.DataFrame(\n",
    "    columns=['00:00', '01:00', '02:00','03:00', '04:00', '05:00','06:00', '07:00', '08:00','09:00', '10:00', '11:00',\n",
    "             '12:00', '13:00', '14:00','15:00', '16:00', '17:00','18:00', '19:00', '20:00','21:00', '22:00', '23:00'],\n",
    "    index=[\"AL\",\"AR\",\"AZ\",\"CA\",\"CO\",\"CT\",\"DE\",\"FL\",\"GA\",\"IA\",\"ID\",\"IL\",\"IN\",\"KS\",\"KY\",\"LA\",\"MA\",\"MD\",\"ME\",\"MI\",\"MN\",\n",
    "           \"MO\",\"MS\",\"MT\",\"NC\",\"ND\",\"NE\",\"NH\",\"NJ\",\"NM\",\"NV\",\"NY\",\"OH\",\"OK\",\"OR\",\"PA\",\"RI\",\"SC\",\"SD\",\"TN\",\"TX\",\"UT\",\n",
    "           \"VA\",\"VT\",\"WA\",\"WI\",\"WV\",\"WY\"])"
   ]
  },
  {
   "cell_type": "code",
   "execution_count": 20,
   "metadata": {},
   "outputs": [],
   "source": [
    "# 赋值\n",
    "VMT_hlyfreq.iloc[0,:]=AL_VMT_hlyfreq.iloc[0,:]\n",
    "VMT_hlyfreq.iloc[1,:]=AR_VMT_hlyfreq.iloc[0,:]\n",
    "VMT_hlyfreq.iloc[2,:]=AZ_VMT_hlyfreq.iloc[0,:]\n",
    "VMT_hlyfreq.iloc[3,:]=CA_VMT_hlyfreq.iloc[0,:]\n",
    "VMT_hlyfreq.iloc[4,:]=CO_VMT_hlyfreq.iloc[0,:]\n",
    "VMT_hlyfreq.iloc[5,:]=CT_VMT_hlyfreq.iloc[0,:]\n",
    "VMT_hlyfreq.iloc[6,:]=DE_VMT_hlyfreq.iloc[0,:]\n",
    "VMT_hlyfreq.iloc[7,:]=FL_VMT_hlyfreq.iloc[0,:]\n",
    "VMT_hlyfreq.iloc[8,:]=GA_VMT_hlyfreq.iloc[0,:]\n",
    "VMT_hlyfreq.iloc[9,:]=IA_VMT_hlyfreq.iloc[0,:]\n",
    "VMT_hlyfreq.iloc[10,:]=ID_VMT_hlyfreq.iloc[0,:]\n",
    "VMT_hlyfreq.iloc[11,:]=IL_VMT_hlyfreq.iloc[0,:]\n",
    "VMT_hlyfreq.iloc[12,:]=IN_VMT_hlyfreq.iloc[0,:]\n",
    "VMT_hlyfreq.iloc[13,:]=KS_VMT_hlyfreq.iloc[0,:]\n",
    "VMT_hlyfreq.iloc[14,:]=KY_VMT_hlyfreq.iloc[0,:]\n",
    "VMT_hlyfreq.iloc[15,:]=LA_VMT_hlyfreq.iloc[0,:]\n",
    "VMT_hlyfreq.iloc[16,:]=MA_VMT_hlyfreq.iloc[0,:]\n",
    "VMT_hlyfreq.iloc[17,:]=MD_VMT_hlyfreq.iloc[0,:]\n",
    "VMT_hlyfreq.iloc[18,:]=ME_VMT_hlyfreq.iloc[0,:]\n",
    "VMT_hlyfreq.iloc[19,:]=MI_VMT_hlyfreq.iloc[0,:]\n",
    "VMT_hlyfreq.iloc[20,:]=MN_VMT_hlyfreq.iloc[0,:]\n",
    "VMT_hlyfreq.iloc[21,:]=MO_VMT_hlyfreq.iloc[0,:]\n",
    "VMT_hlyfreq.iloc[22,:]=MS_VMT_hlyfreq.iloc[0,:]\n",
    "VMT_hlyfreq.iloc[23,:]=MT_VMT_hlyfreq.iloc[0,:]\n",
    "VMT_hlyfreq.iloc[24,:]=NC_VMT_hlyfreq.iloc[0,:]\n",
    "VMT_hlyfreq.iloc[25,:]=ND_VMT_hlyfreq.iloc[0,:]\n",
    "VMT_hlyfreq.iloc[26,:]=NE_VMT_hlyfreq.iloc[0,:]\n",
    "VMT_hlyfreq.iloc[27,:]=NH_VMT_hlyfreq.iloc[0,:]\n",
    "VMT_hlyfreq.iloc[28,:]=NJ_VMT_hlyfreq.iloc[0,:]\n",
    "VMT_hlyfreq.iloc[29,:]=NM_VMT_hlyfreq.iloc[0,:]\n",
    "VMT_hlyfreq.iloc[30,:]=NV_VMT_hlyfreq.iloc[0,:]\n",
    "VMT_hlyfreq.iloc[31,:]=NY_VMT_hlyfreq.iloc[0,:]\n",
    "VMT_hlyfreq.iloc[32,:]=OH_VMT_hlyfreq.iloc[0,:]\n",
    "VMT_hlyfreq.iloc[33,:]=OK_VMT_hlyfreq.iloc[0,:]\n",
    "VMT_hlyfreq.iloc[34,:]=OR_VMT_hlyfreq.iloc[0,:]\n",
    "VMT_hlyfreq.iloc[35,:]=PA_VMT_hlyfreq.iloc[0,:]\n",
    "VMT_hlyfreq.iloc[36,:]=RI_VMT_hlyfreq.iloc[0,:]\n",
    "VMT_hlyfreq.iloc[37,:]=SC_VMT_hlyfreq.iloc[0,:]\n",
    "VMT_hlyfreq.iloc[38,:]=SD_VMT_hlyfreq.iloc[0,:]\n",
    "VMT_hlyfreq.iloc[39,:]=TN_VMT_hlyfreq.iloc[0,:]\n",
    "VMT_hlyfreq.iloc[40,:]=TX_VMT_hlyfreq.iloc[0,:]\n",
    "VMT_hlyfreq.iloc[41,:]=UT_VMT_hlyfreq.iloc[0,:]\n",
    "VMT_hlyfreq.iloc[42,:]=VA_VMT_hlyfreq.iloc[0,:]\n",
    "VMT_hlyfreq.iloc[43,:]=VT_VMT_hlyfreq.iloc[0,:]\n",
    "VMT_hlyfreq.iloc[44,:]=WA_VMT_hlyfreq.iloc[0,:]\n",
    "VMT_hlyfreq.iloc[45,:]=WI_VMT_hlyfreq.iloc[0,:]\n",
    "VMT_hlyfreq.iloc[46,:]=WV_VMT_hlyfreq.iloc[0,:]\n",
    "VMT_hlyfreq.iloc[47,:]=WY_VMT_hlyfreq.iloc[0,:]"
   ]
  },
  {
   "cell_type": "code",
   "execution_count": 21,
   "metadata": {},
   "outputs": [],
   "source": [
    "f2path=\"./VMT_hly_freq.xlsx\"\n",
    "VMT_hlyfreq.to_excel(f2path)"
   ]
  },
  {
   "cell_type": "code",
   "execution_count": 22,
   "metadata": {},
   "outputs": [
    {
     "data": {
      "text/plain": [
       "('WY',)"
      ]
     },
     "execution_count": 22,
     "metadata": {},
     "output_type": "execute_result"
    }
   ],
   "source": [
    "\"AL\",\n",
    "\"AR\",\n",
    "\"AZ\",\n",
    "\"CA\",\n",
    "\"CO\",\n",
    "\"CT\",\n",
    "\"DE\",\n",
    "\"FL\",\n",
    "\"GA\",\n",
    "\"IA\",\n",
    "\"ID\",\n",
    "\"IL\",\n",
    "\"IN\",\n",
    "\"KS\",\n",
    "\"KY\",\n",
    "\"LA\",\n",
    "\"MA\",\n",
    "\"MD\",\n",
    "\"ME\",\n",
    "\"MI\",\n",
    "\"MN\",\n",
    "\"MO\",\n",
    "\"MS\",\n",
    "\"MT\",\n",
    "\"NC\",\n",
    "\"ND\",\n",
    "\"NE\",\n",
    "\"NH\",\n",
    "\"NJ\",\n",
    "\"NM\",\n",
    "\"NV\",\n",
    "\"NY\",\n",
    "\"OH\",\n",
    "\"OK\",\n",
    "\"OR\",\n",
    "\"PA\",\n",
    "\"RI\",\n",
    "\"SC\",\n",
    "\"SD\",\n",
    "\"TN\",\n",
    "\"TX\",\n",
    "\"UT\",\n",
    "\"VA\",\n",
    "\"VT\",\n",
    "\"WA\",\n",
    "\"WI\",\n",
    "\"WV\",\n",
    "\"WY\","
   ]
  }
 ],
 "metadata": {
  "hide_input": false,
  "kernelspec": {
   "display_name": "Python 3",
   "language": "python",
   "name": "python3"
  },
  "language_info": {
   "codemirror_mode": {
    "name": "ipython",
    "version": 3
   },
   "file_extension": ".py",
   "mimetype": "text/x-python",
   "name": "python",
   "nbconvert_exporter": "python",
   "pygments_lexer": "ipython3",
   "version": "3.8.5"
  },
  "toc": {
   "base_numbering": 1,
   "nav_menu": {},
   "number_sections": true,
   "sideBar": true,
   "skip_h1_title": false,
   "title_cell": "Table of Contents",
   "title_sidebar": "Contents",
   "toc_cell": false,
   "toc_position": {},
   "toc_section_display": true,
   "toc_window_display": false
  },
  "varInspector": {
   "cols": {
    "lenName": 16,
    "lenType": 16,
    "lenVar": 40
   },
   "kernels_config": {
    "python": {
     "delete_cmd_postfix": "",
     "delete_cmd_prefix": "del ",
     "library": "var_list.py",
     "varRefreshCmd": "print(var_dic_list())"
    },
    "r": {
     "delete_cmd_postfix": ") ",
     "delete_cmd_prefix": "rm(",
     "library": "var_list.r",
     "varRefreshCmd": "cat(var_dic_list()) "
    }
   },
   "types_to_exclude": [
    "module",
    "function",
    "builtin_function_or_method",
    "instance",
    "_Feature"
   ],
   "window_display": false
  }
 },
 "nbformat": 4,
 "nbformat_minor": 4
}
